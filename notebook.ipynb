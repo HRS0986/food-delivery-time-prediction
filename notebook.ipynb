{
 "cells": [
  {
   "metadata": {},
   "cell_type": "markdown",
   "source": "### For Ignore Warning",
   "id": "c45b1a3a0e19d761"
  },
  {
   "metadata": {
    "ExecuteTime": {
     "end_time": "2024-12-19T14:34:10.193376Z",
     "start_time": "2024-12-19T14:34:10.188853Z"
    }
   },
   "cell_type": "code",
   "source": [
    "import warnings\n",
    "\n",
    "from xgboost import XGBRegressor\n",
    "\n",
    "warnings.filterwarnings(\"ignore\")\n",
    "\n",
    "# Suppress warnings from LightGBM\n",
    "warnings.filterwarnings(\"ignore\", category=FutureWarning, module=\"lightgbm\")\n",
    "\n",
    "# Suppress warnings from Scikit-learn\n",
    "warnings.filterwarnings(\"ignore\", category=FutureWarning, module=\"sklearn\")"
   ],
   "id": "a9b176e3f70b1e1",
   "outputs": [],
   "execution_count": 80
  },
  {
   "metadata": {},
   "cell_type": "markdown",
   "source": "### Loading Dataset",
   "id": "91e143f615ee56e1"
  },
  {
   "cell_type": "code",
   "id": "initial_id",
   "metadata": {
    "collapsed": true,
    "ExecuteTime": {
     "end_time": "2024-12-19T14:34:10.225304Z",
     "start_time": "2024-12-19T14:34:10.221029Z"
    }
   },
   "source": [
    "import kagglehub\n",
    "from pandas.core.interchange.dataframe_protocol import DataFrame\n",
    "\n",
    "path = kagglehub.dataset_download(\"gauravmalik26/food-delivery-dataset/versions/1\")\n",
    "print(\"Path to dataset files:\", path)"
   ],
   "outputs": [
    {
     "name": "stdout",
     "output_type": "stream",
     "text": [
      "Path to dataset files: C:\\Users\\hesha\\.cache\\kagglehub\\datasets\\gauravmalik26\\food-delivery-dataset\\versions\\1\n"
     ]
    }
   ],
   "execution_count": 81
  },
  {
   "metadata": {
    "ExecuteTime": {
     "end_time": "2024-12-19T14:34:10.362770Z",
     "start_time": "2024-12-19T14:34:10.252111Z"
    }
   },
   "cell_type": "code",
   "source": [
    "import pandas as pd\n",
    "\n",
    "df = pd.read_csv(f\"{path}/train.csv\")"
   ],
   "id": "ac4b0d8661565da9",
   "outputs": [],
   "execution_count": 82
  },
  {
   "metadata": {
    "ExecuteTime": {
     "end_time": "2024-12-19T14:34:10.402840Z",
     "start_time": "2024-12-19T14:34:10.390736Z"
    }
   },
   "cell_type": "code",
   "source": "df.head()",
   "id": "27fa5354d298c25d",
   "outputs": [
    {
     "data": {
      "text/plain": [
       "        ID Delivery_person_ID Delivery_person_Age Delivery_person_Ratings  \\\n",
       "0  0x4607     INDORES13DEL02                   37                     4.9   \n",
       "1  0xb379     BANGRES18DEL02                   34                     4.5   \n",
       "2  0x5d6d     BANGRES19DEL01                   23                     4.4   \n",
       "3  0x7a6a    COIMBRES13DEL02                   38                     4.7   \n",
       "4  0x70a2     CHENRES12DEL01                   32                     4.6   \n",
       "\n",
       "   Restaurant_latitude  Restaurant_longitude  Delivery_location_latitude  \\\n",
       "0            22.745049             75.892471                   22.765049   \n",
       "1            12.913041             77.683237                   13.043041   \n",
       "2            12.914264             77.678400                   12.924264   \n",
       "3            11.003669             76.976494                   11.053669   \n",
       "4            12.972793             80.249982                   13.012793   \n",
       "\n",
       "   Delivery_location_longitude  Order_Date Time_Orderd Time_Order_picked  \\\n",
       "0                    75.912471  19-03-2022    11:30:00          11:45:00   \n",
       "1                    77.813237  25-03-2022    19:45:00          19:50:00   \n",
       "2                    77.688400  19-03-2022    08:30:00          08:45:00   \n",
       "3                    77.026494  05-04-2022    18:00:00          18:10:00   \n",
       "4                    80.289982  26-03-2022    13:30:00          13:45:00   \n",
       "\n",
       "       Weatherconditions Road_traffic_density  Vehicle_condition  \\\n",
       "0       conditions Sunny                High                   2   \n",
       "1      conditions Stormy                 Jam                   2   \n",
       "2  conditions Sandstorms                 Low                   0   \n",
       "3       conditions Sunny              Medium                   0   \n",
       "4      conditions Cloudy                High                   1   \n",
       "\n",
       "  Type_of_order Type_of_vehicle multiple_deliveries Festival            City  \\\n",
       "0        Snack      motorcycle                    0      No           Urban    \n",
       "1        Snack         scooter                    1      No   Metropolitian    \n",
       "2       Drinks      motorcycle                    1      No           Urban    \n",
       "3       Buffet      motorcycle                    1      No   Metropolitian    \n",
       "4        Snack         scooter                    1      No   Metropolitian    \n",
       "\n",
       "  Time_taken(min)  \n",
       "0        (min) 24  \n",
       "1        (min) 33  \n",
       "2        (min) 26  \n",
       "3        (min) 21  \n",
       "4        (min) 30  "
      ],
      "text/html": [
       "<div>\n",
       "<style scoped>\n",
       "    .dataframe tbody tr th:only-of-type {\n",
       "        vertical-align: middle;\n",
       "    }\n",
       "\n",
       "    .dataframe tbody tr th {\n",
       "        vertical-align: top;\n",
       "    }\n",
       "\n",
       "    .dataframe thead th {\n",
       "        text-align: right;\n",
       "    }\n",
       "</style>\n",
       "<table border=\"1\" class=\"dataframe\">\n",
       "  <thead>\n",
       "    <tr style=\"text-align: right;\">\n",
       "      <th></th>\n",
       "      <th>ID</th>\n",
       "      <th>Delivery_person_ID</th>\n",
       "      <th>Delivery_person_Age</th>\n",
       "      <th>Delivery_person_Ratings</th>\n",
       "      <th>Restaurant_latitude</th>\n",
       "      <th>Restaurant_longitude</th>\n",
       "      <th>Delivery_location_latitude</th>\n",
       "      <th>Delivery_location_longitude</th>\n",
       "      <th>Order_Date</th>\n",
       "      <th>Time_Orderd</th>\n",
       "      <th>Time_Order_picked</th>\n",
       "      <th>Weatherconditions</th>\n",
       "      <th>Road_traffic_density</th>\n",
       "      <th>Vehicle_condition</th>\n",
       "      <th>Type_of_order</th>\n",
       "      <th>Type_of_vehicle</th>\n",
       "      <th>multiple_deliveries</th>\n",
       "      <th>Festival</th>\n",
       "      <th>City</th>\n",
       "      <th>Time_taken(min)</th>\n",
       "    </tr>\n",
       "  </thead>\n",
       "  <tbody>\n",
       "    <tr>\n",
       "      <th>0</th>\n",
       "      <td>0x4607</td>\n",
       "      <td>INDORES13DEL02</td>\n",
       "      <td>37</td>\n",
       "      <td>4.9</td>\n",
       "      <td>22.745049</td>\n",
       "      <td>75.892471</td>\n",
       "      <td>22.765049</td>\n",
       "      <td>75.912471</td>\n",
       "      <td>19-03-2022</td>\n",
       "      <td>11:30:00</td>\n",
       "      <td>11:45:00</td>\n",
       "      <td>conditions Sunny</td>\n",
       "      <td>High</td>\n",
       "      <td>2</td>\n",
       "      <td>Snack</td>\n",
       "      <td>motorcycle</td>\n",
       "      <td>0</td>\n",
       "      <td>No</td>\n",
       "      <td>Urban</td>\n",
       "      <td>(min) 24</td>\n",
       "    </tr>\n",
       "    <tr>\n",
       "      <th>1</th>\n",
       "      <td>0xb379</td>\n",
       "      <td>BANGRES18DEL02</td>\n",
       "      <td>34</td>\n",
       "      <td>4.5</td>\n",
       "      <td>12.913041</td>\n",
       "      <td>77.683237</td>\n",
       "      <td>13.043041</td>\n",
       "      <td>77.813237</td>\n",
       "      <td>25-03-2022</td>\n",
       "      <td>19:45:00</td>\n",
       "      <td>19:50:00</td>\n",
       "      <td>conditions Stormy</td>\n",
       "      <td>Jam</td>\n",
       "      <td>2</td>\n",
       "      <td>Snack</td>\n",
       "      <td>scooter</td>\n",
       "      <td>1</td>\n",
       "      <td>No</td>\n",
       "      <td>Metropolitian</td>\n",
       "      <td>(min) 33</td>\n",
       "    </tr>\n",
       "    <tr>\n",
       "      <th>2</th>\n",
       "      <td>0x5d6d</td>\n",
       "      <td>BANGRES19DEL01</td>\n",
       "      <td>23</td>\n",
       "      <td>4.4</td>\n",
       "      <td>12.914264</td>\n",
       "      <td>77.678400</td>\n",
       "      <td>12.924264</td>\n",
       "      <td>77.688400</td>\n",
       "      <td>19-03-2022</td>\n",
       "      <td>08:30:00</td>\n",
       "      <td>08:45:00</td>\n",
       "      <td>conditions Sandstorms</td>\n",
       "      <td>Low</td>\n",
       "      <td>0</td>\n",
       "      <td>Drinks</td>\n",
       "      <td>motorcycle</td>\n",
       "      <td>1</td>\n",
       "      <td>No</td>\n",
       "      <td>Urban</td>\n",
       "      <td>(min) 26</td>\n",
       "    </tr>\n",
       "    <tr>\n",
       "      <th>3</th>\n",
       "      <td>0x7a6a</td>\n",
       "      <td>COIMBRES13DEL02</td>\n",
       "      <td>38</td>\n",
       "      <td>4.7</td>\n",
       "      <td>11.003669</td>\n",
       "      <td>76.976494</td>\n",
       "      <td>11.053669</td>\n",
       "      <td>77.026494</td>\n",
       "      <td>05-04-2022</td>\n",
       "      <td>18:00:00</td>\n",
       "      <td>18:10:00</td>\n",
       "      <td>conditions Sunny</td>\n",
       "      <td>Medium</td>\n",
       "      <td>0</td>\n",
       "      <td>Buffet</td>\n",
       "      <td>motorcycle</td>\n",
       "      <td>1</td>\n",
       "      <td>No</td>\n",
       "      <td>Metropolitian</td>\n",
       "      <td>(min) 21</td>\n",
       "    </tr>\n",
       "    <tr>\n",
       "      <th>4</th>\n",
       "      <td>0x70a2</td>\n",
       "      <td>CHENRES12DEL01</td>\n",
       "      <td>32</td>\n",
       "      <td>4.6</td>\n",
       "      <td>12.972793</td>\n",
       "      <td>80.249982</td>\n",
       "      <td>13.012793</td>\n",
       "      <td>80.289982</td>\n",
       "      <td>26-03-2022</td>\n",
       "      <td>13:30:00</td>\n",
       "      <td>13:45:00</td>\n",
       "      <td>conditions Cloudy</td>\n",
       "      <td>High</td>\n",
       "      <td>1</td>\n",
       "      <td>Snack</td>\n",
       "      <td>scooter</td>\n",
       "      <td>1</td>\n",
       "      <td>No</td>\n",
       "      <td>Metropolitian</td>\n",
       "      <td>(min) 30</td>\n",
       "    </tr>\n",
       "  </tbody>\n",
       "</table>\n",
       "</div>"
      ]
     },
     "execution_count": 83,
     "metadata": {},
     "output_type": "execute_result"
    }
   ],
   "execution_count": 83
  },
  {
   "metadata": {
    "ExecuteTime": {
     "end_time": "2024-12-19T14:34:10.457272Z",
     "start_time": "2024-12-19T14:34:10.452846Z"
    }
   },
   "cell_type": "code",
   "source": "df.shape",
   "id": "1e449604612b1606",
   "outputs": [
    {
     "data": {
      "text/plain": [
       "(45593, 20)"
      ]
     },
     "execution_count": 84,
     "metadata": {},
     "output_type": "execute_result"
    }
   ],
   "execution_count": 84
  },
  {
   "metadata": {
    "ExecuteTime": {
     "end_time": "2024-12-19T14:34:10.578170Z",
     "start_time": "2024-12-19T14:34:10.550559Z"
    }
   },
   "cell_type": "code",
   "source": "df.info()",
   "id": "d6d9fbccf5edbff4",
   "outputs": [
    {
     "name": "stdout",
     "output_type": "stream",
     "text": [
      "<class 'pandas.core.frame.DataFrame'>\n",
      "RangeIndex: 45593 entries, 0 to 45592\n",
      "Data columns (total 20 columns):\n",
      " #   Column                       Non-Null Count  Dtype  \n",
      "---  ------                       --------------  -----  \n",
      " 0   ID                           45593 non-null  object \n",
      " 1   Delivery_person_ID           45593 non-null  object \n",
      " 2   Delivery_person_Age          45593 non-null  object \n",
      " 3   Delivery_person_Ratings      45593 non-null  object \n",
      " 4   Restaurant_latitude          45593 non-null  float64\n",
      " 5   Restaurant_longitude         45593 non-null  float64\n",
      " 6   Delivery_location_latitude   45593 non-null  float64\n",
      " 7   Delivery_location_longitude  45593 non-null  float64\n",
      " 8   Order_Date                   45593 non-null  object \n",
      " 9   Time_Orderd                  45593 non-null  object \n",
      " 10  Time_Order_picked            45593 non-null  object \n",
      " 11  Weatherconditions            45593 non-null  object \n",
      " 12  Road_traffic_density         45593 non-null  object \n",
      " 13  Vehicle_condition            45593 non-null  int64  \n",
      " 14  Type_of_order                45593 non-null  object \n",
      " 15  Type_of_vehicle              45593 non-null  object \n",
      " 16  multiple_deliveries          45593 non-null  object \n",
      " 17  Festival                     45593 non-null  object \n",
      " 18  City                         45593 non-null  object \n",
      " 19  Time_taken(min)              45593 non-null  object \n",
      "dtypes: float64(4), int64(1), object(15)\n",
      "memory usage: 7.0+ MB\n"
     ]
    }
   ],
   "execution_count": 85
  },
  {
   "metadata": {},
   "cell_type": "markdown",
   "source": "### Data Cleaning",
   "id": "92b9696dd158b616"
  },
  {
   "metadata": {},
   "cell_type": "markdown",
   "source": "##### Removing unwanted columns",
   "id": "8300217a3632f775"
  },
  {
   "metadata": {
    "ExecuteTime": {
     "end_time": "2024-12-19T14:34:10.702382Z",
     "start_time": "2024-12-19T14:34:10.693699Z"
    }
   },
   "cell_type": "code",
   "source": "df = df.drop(columns=[\"ID\", \"Delivery_person_ID\"])",
   "id": "d522e384199b2b42",
   "outputs": [],
   "execution_count": 86
  },
  {
   "metadata": {},
   "cell_type": "markdown",
   "source": "##### Remove leading and trailing spaces",
   "id": "b1f49ece02dadd"
  },
  {
   "metadata": {
    "ExecuteTime": {
     "end_time": "2024-12-19T14:34:10.852145Z",
     "start_time": "2024-12-19T14:34:10.794281Z"
    }
   },
   "cell_type": "code",
   "source": [
    "# Extract data from columns\n",
    "df[\"Time_taken(min)\"] = df[\"Time_taken(min)\"].apply(lambda x: x.split(\" \")[1].strip())\n",
    "df[\"Weatherconditions\"] = df[\"Weatherconditions\"].apply(lambda x: x.split(\" \")[1].strip())\n",
    "\n",
    "# Removing leading and trailing spaces\n",
    "df[\"Road_traffic_density\"] = df[\"Road_traffic_density\"].apply(lambda x: x.strip())\n",
    "df[\"City\"] = df[\"City\"].apply(lambda x: x.strip())\n",
    "df[\"Type_of_vehicle\"] = df[\"Type_of_vehicle\"].apply(lambda x: x.strip())\n",
    "df[\"Type_of_order\"] = df[\"Type_of_order\"].apply(lambda x: x.strip())"
   ],
   "id": "fbd8c77a036c8a3e",
   "outputs": [],
   "execution_count": 87
  },
  {
   "metadata": {
    "ExecuteTime": {
     "end_time": "2024-12-19T14:34:10.910092Z",
     "start_time": "2024-12-19T14:34:10.873241Z"
    }
   },
   "cell_type": "code",
   "source": "print(len(df[df.duplicated()])>0)",
   "id": "ff22ce15649c5190",
   "outputs": [
    {
     "name": "stdout",
     "output_type": "stream",
     "text": [
      "False\n"
     ]
    }
   ],
   "execution_count": 88
  },
  {
   "metadata": {},
   "cell_type": "markdown",
   "source": "#### Handling Null Values",
   "id": "68b542ab7c8171df"
  },
  {
   "metadata": {
    "ExecuteTime": {
     "end_time": "2024-12-19T14:34:11.130096Z",
     "start_time": "2024-12-19T14:34:10.947412Z"
    }
   },
   "cell_type": "code",
   "source": [
    "import numpy as np\n",
    "\n",
    "def convert_nan(dataframe):\n",
    "    dataframe.replace('NaN', float(np.nan), regex=True,inplace=True)\n",
    "\n",
    "convert_nan(df)\n",
    "df.isnull().sum().sort_values(ascending=False)"
   ],
   "id": "236ba81d6e2b0dec",
   "outputs": [
    {
     "data": {
      "text/plain": [
       "Delivery_person_Ratings        1908\n",
       "Delivery_person_Age            1854\n",
       "Time_Orderd                    1731\n",
       "City                           1200\n",
       "multiple_deliveries             993\n",
       "Weatherconditions               616\n",
       "Road_traffic_density            601\n",
       "Festival                        228\n",
       "Restaurant_latitude               0\n",
       "Restaurant_longitude              0\n",
       "Time_Order_picked                 0\n",
       "Order_Date                        0\n",
       "Delivery_location_latitude        0\n",
       "Delivery_location_longitude       0\n",
       "Type_of_vehicle                   0\n",
       "Type_of_order                     0\n",
       "Vehicle_condition                 0\n",
       "Time_taken(min)                   0\n",
       "dtype: int64"
      ]
     },
     "execution_count": 89,
     "metadata": {},
     "output_type": "execute_result"
    }
   ],
   "execution_count": 89
  },
  {
   "metadata": {
    "ExecuteTime": {
     "end_time": "2024-12-19T14:34:11.225156Z",
     "start_time": "2024-12-19T14:34:11.179007Z"
    }
   },
   "cell_type": "code",
   "source": [
    "for col in df.columns:\n",
    "    print(col, df[col].value_counts())\n",
    "    print()"
   ],
   "id": "1c15e8638f1ef492",
   "outputs": [
    {
     "name": "stdout",
     "output_type": "stream",
     "text": [
      "Delivery_person_Age Delivery_person_Age\n",
      "35    2262\n",
      "36    2260\n",
      "37    2227\n",
      "30    2226\n",
      "38    2219\n",
      "24    2210\n",
      "32    2202\n",
      "22    2196\n",
      "29    2191\n",
      "33    2187\n",
      "28    2179\n",
      "25    2174\n",
      "34    2166\n",
      "26    2159\n",
      "21    2153\n",
      "27    2150\n",
      "39    2144\n",
      "20    2136\n",
      "31    2120\n",
      "23    2087\n",
      "50      53\n",
      "15      38\n",
      "Name: count, dtype: int64\n",
      "\n",
      "Delivery_person_Ratings Delivery_person_Ratings\n",
      "4.8    7148\n",
      "4.7    7142\n",
      "4.9    7041\n",
      "4.6    6940\n",
      "5      3996\n",
      "4.5    3303\n",
      "4.1    1430\n",
      "4.2    1418\n",
      "4.3    1409\n",
      "4.4    1361\n",
      "4      1077\n",
      "3.5     249\n",
      "3.8     228\n",
      "3.7     225\n",
      "3.6     207\n",
      "3.9     197\n",
      "6        53\n",
      "1        38\n",
      "3.4      32\n",
      "3.1      29\n",
      "3.2      29\n",
      "3.3      25\n",
      "2.6      22\n",
      "2.7      22\n",
      "2.5      20\n",
      "2.8      19\n",
      "2.9      19\n",
      "3         6\n",
      "Name: count, dtype: int64\n",
      "\n",
      "Restaurant_latitude Restaurant_latitude\n",
      " 0.000000     3640\n",
      " 26.911378     182\n",
      " 26.914142     180\n",
      " 26.902940     176\n",
      " 26.902908     176\n",
      "              ... \n",
      "-12.326356       1\n",
      "-22.577821       1\n",
      "-22.569367       1\n",
      "-30.890184       1\n",
      "-12.978453       1\n",
      "Name: count, Length: 657, dtype: int64\n",
      "\n",
      "Restaurant_longitude Restaurant_longitude\n",
      " 0.000000     3640\n",
      " 75.789034     182\n",
      " 75.805704     181\n",
      " 75.793007     177\n",
      " 75.806896     176\n",
      "              ... \n",
      "-77.408236       1\n",
      "-73.838429       1\n",
      "-72.778059       1\n",
      "-73.827423       1\n",
      "-77.643685       1\n",
      "Name: count, Length: 518, dtype: int64\n",
      "\n",
      "Delivery_location_latitude Delivery_location_latitude\n",
      "0.130000     341\n",
      "0.020000     337\n",
      "0.060000     336\n",
      "0.090000     336\n",
      "0.070000     335\n",
      "            ... \n",
      "25.533436      1\n",
      "23.308998      1\n",
      "30.982872      1\n",
      "30.919992      1\n",
      "20.005337      1\n",
      "Name: count, Length: 4373, dtype: int64\n",
      "\n",
      "Delivery_location_longitude Delivery_location_longitude\n",
      "0.130000     341\n",
      "0.020000     337\n",
      "0.060000     336\n",
      "0.090000     336\n",
      "0.070000     335\n",
      "            ... \n",
      "81.913167      1\n",
      "77.463573      1\n",
      "75.906808      1\n",
      "75.851338      1\n",
      "75.446722      1\n",
      "Name: count, Length: 4373, dtype: int64\n",
      "\n",
      "Order_Date Order_Date\n",
      "15-03-2022    1192\n",
      "03-04-2022    1178\n",
      "13-03-2022    1169\n",
      "26-03-2022    1166\n",
      "24-03-2022    1162\n",
      "09-03-2022    1159\n",
      "05-04-2022    1157\n",
      "05-03-2022    1154\n",
      "07-03-2022    1153\n",
      "03-03-2022    1150\n",
      "19-03-2022    1150\n",
      "11-03-2022    1149\n",
      "21-03-2022    1149\n",
      "30-03-2022    1141\n",
      "01-03-2022    1140\n",
      "28-03-2022    1139\n",
      "17-03-2022    1134\n",
      "01-04-2022    1133\n",
      "02-03-2022    1012\n",
      "10-03-2022     996\n",
      "16-03-2022     995\n",
      "20-03-2022     994\n",
      "02-04-2022     992\n",
      "06-03-2022     986\n",
      "04-03-2022     981\n",
      "29-03-2022     977\n",
      "25-03-2022     975\n",
      "14-03-2022     974\n",
      "11-02-2022     970\n",
      "18-03-2022     968\n",
      "31-03-2022     967\n",
      "27-03-2022     965\n",
      "23-03-2022     964\n",
      "08-03-2022     964\n",
      "12-03-2022     964\n",
      "06-04-2022     961\n",
      "13-02-2022     957\n",
      "15-02-2022     945\n",
      "04-04-2022     941\n",
      "17-02-2022     939\n",
      "12-02-2022     864\n",
      "16-02-2022     861\n",
      "18-02-2022     855\n",
      "14-02-2022     851\n",
      "Name: count, dtype: int64\n",
      "\n",
      "Time_Orderd Time_Orderd\n",
      "21:55:00    461\n",
      "17:55:00    456\n",
      "20:00:00    449\n",
      "22:20:00    448\n",
      "21:35:00    446\n",
      "           ... \n",
      "12:25:00     57\n",
      "14:15:00     56\n",
      "16:00:00     53\n",
      "13:20:00     52\n",
      "16:30:00     51\n",
      "Name: count, Length: 176, dtype: int64\n",
      "\n",
      "Time_Order_picked Time_Order_picked\n",
      "21:30:00    496\n",
      "22:50:00    474\n",
      "22:40:00    458\n",
      "18:40:00    457\n",
      "21:45:00    456\n",
      "           ... \n",
      "08:15:00     48\n",
      "16:15:00     46\n",
      "16:10:00     43\n",
      "17:10:00     39\n",
      "16:20:00     38\n",
      "Name: count, Length: 193, dtype: int64\n",
      "\n",
      "Weatherconditions Weatherconditions\n",
      "Fog           7654\n",
      "Stormy        7586\n",
      "Cloudy        7536\n",
      "Sandstorms    7495\n",
      "Windy         7422\n",
      "Sunny         7284\n",
      "Name: count, dtype: int64\n",
      "\n",
      "Road_traffic_density Road_traffic_density\n",
      "Low       15477\n",
      "Jam       14143\n",
      "Medium    10947\n",
      "High       4425\n",
      "Name: count, dtype: int64\n",
      "\n",
      "Vehicle_condition Vehicle_condition\n",
      "2    15034\n",
      "1    15030\n",
      "0    15009\n",
      "3      520\n",
      "Name: count, dtype: int64\n",
      "\n",
      "Type_of_order Type_of_order\n",
      "Snack     11533\n",
      "Meal      11458\n",
      "Drinks    11322\n",
      "Buffet    11280\n",
      "Name: count, dtype: int64\n",
      "\n",
      "Type_of_vehicle Type_of_vehicle\n",
      "motorcycle          26435\n",
      "scooter             15276\n",
      "electric_scooter     3814\n",
      "bicycle                68\n",
      "Name: count, dtype: int64\n",
      "\n",
      "multiple_deliveries multiple_deliveries\n",
      "1    28159\n",
      "0    14095\n",
      "2     1985\n",
      "3      361\n",
      "Name: count, dtype: int64\n",
      "\n",
      "Festival Festival\n",
      "No      44469\n",
      "Yes       896\n",
      "Name: count, dtype: int64\n",
      "\n",
      "City City\n",
      "Metropolitian    34093\n",
      "Urban            10136\n",
      "Semi-Urban         164\n",
      "Name: count, dtype: int64\n",
      "\n",
      "Time_taken(min) Time_taken(min)\n",
      "26    2123\n",
      "25    2050\n",
      "27    1976\n",
      "28    1965\n",
      "29    1956\n",
      "19    1824\n",
      "15    1810\n",
      "18    1765\n",
      "16    1706\n",
      "17    1696\n",
      "24    1680\n",
      "23    1643\n",
      "20    1640\n",
      "22    1626\n",
      "21    1601\n",
      "33    1259\n",
      "30    1218\n",
      "31    1213\n",
      "34    1172\n",
      "32    1124\n",
      "38     887\n",
      "36     852\n",
      "39     847\n",
      "35     832\n",
      "37     828\n",
      "11     757\n",
      "10     750\n",
      "12     746\n",
      "14     739\n",
      "13     716\n",
      "43     567\n",
      "42     561\n",
      "40     555\n",
      "44     553\n",
      "41     553\n",
      "47     295\n",
      "49     280\n",
      "48     277\n",
      "46     274\n",
      "45     241\n",
      "53     100\n",
      "51      94\n",
      "54      91\n",
      "52      79\n",
      "50      72\n",
      "Name: count, dtype: int64\n",
      "\n"
     ]
    }
   ],
   "execution_count": 90
  },
  {
   "metadata": {},
   "cell_type": "markdown",
   "source": "##### Visualize columns with null values to determine the appropriate statistic for filling them.",
   "id": "13ac07179a631943"
  },
  {
   "metadata": {
    "ExecuteTime": {
     "end_time": "2024-12-19T14:34:12.364007Z",
     "start_time": "2024-12-19T14:34:11.296357Z"
    }
   },
   "cell_type": "code",
   "source": [
    "import matplotlib.pyplot as plt\n",
    "import seaborn as sns\n",
    "\n",
    "fig, axs = plt.subplots(4, 2, figsize=(20,15))\n",
    "columns = ['Delivery_person_Age','Delivery_person_Ratings','Weatherconditions','Road_traffic_density','multiple_deliveries','Festival','City']\n",
    "\n",
    "for i, column in enumerate(columns):\n",
    "    # every bar should have a random color\n",
    "    color = sns.color_palette()[i]\n",
    "    sns.countplot(x=column, data=df, ax=axs[i//2, i%2], color=color)\n",
    "\n",
    "plt.tight_layout()\n",
    "plt.show()"
   ],
   "id": "9e5f054f5794e932",
   "outputs": [
    {
     "data": {
      "text/plain": [
       "<Figure size 2000x1500 with 8 Axes>"
      ],
      "image/png": "[encoded data removed]"
     },
     "metadata": {},
     "output_type": "display_data"
    }
   ],
   "execution_count": 91
  },
  {
   "metadata": {},
   "cell_type": "markdown",
   "source": "##### Fill null values with suitable statistic",
   "id": "b70f780c2ebcd69f"
  },
  {
   "metadata": {
    "ExecuteTime": {
     "end_time": "2024-12-19T14:34:12.436760Z",
     "start_time": "2024-12-19T14:34:12.412402Z"
    }
   },
   "cell_type": "code",
   "source": [
    "df[\"Weatherconditions\"] = df[\"Weatherconditions\"].fillna(df[\"Weatherconditions\"].mode()[0])\n",
    "df[\"Road_traffic_density\"] = df[\"Road_traffic_density\"].fillna(df[\"Road_traffic_density\"].mode()[0])\n",
    "df[\"City\"] = df[\"City\"].fillna(df[\"City\"].mode()[0])\n",
    "df[\"multiple_deliveries\"] = df[\"multiple_deliveries\"].fillna(df[\"multiple_deliveries\"].mode()[0])\n",
    "df[\"Festival\"] = df[\"Festival\"].fillna(df[\"Festival\"].mode()[0])"
   ],
   "id": "5bd075eb661c940b",
   "outputs": [],
   "execution_count": 92
  },
  {
   "metadata": {
    "ExecuteTime": {
     "end_time": "2024-12-19T14:34:12.479413Z",
     "start_time": "2024-12-19T14:34:12.460919Z"
    }
   },
   "cell_type": "code",
   "source": [
    "df['Delivery_person_Age'] = df['Delivery_person_Age'].astype(float)\n",
    "df['Delivery_person_Ratings'] = df['Delivery_person_Ratings'].astype(float)"
   ],
   "id": "4150cb6adbc7275e",
   "outputs": [],
   "execution_count": 93
  },
  {
   "metadata": {
    "ExecuteTime": {
     "end_time": "2024-12-19T14:34:12.506626Z",
     "start_time": "2024-12-19T14:34:12.500917Z"
    }
   },
   "cell_type": "code",
   "source": [
    "df[\"Delivery_person_Age\"] = df[\"Delivery_person_Age\"].fillna(df[\"Delivery_person_Age\"].mean())\n",
    "df[\"Delivery_person_Ratings\"] = df[\"Delivery_person_Ratings\"].fillna(df[\"Delivery_person_Ratings\"].mean())"
   ],
   "id": "b457a426ba142820",
   "outputs": [],
   "execution_count": 94
  },
  {
   "metadata": {
    "ExecuteTime": {
     "end_time": "2024-12-19T14:34:12.545437Z",
     "start_time": "2024-12-19T14:34:12.532705Z"
    }
   },
   "cell_type": "code",
   "source": "df.head()",
   "id": "f2346189f3ba66e",
   "outputs": [
    {
     "data": {
      "text/plain": [
       "   Delivery_person_Age  Delivery_person_Ratings  Restaurant_latitude  \\\n",
       "0                 37.0                      4.9            22.745049   \n",
       "1                 34.0                      4.5            12.913041   \n",
       "2                 23.0                      4.4            12.914264   \n",
       "3                 38.0                      4.7            11.003669   \n",
       "4                 32.0                      4.6            12.972793   \n",
       "\n",
       "   Restaurant_longitude  Delivery_location_latitude  \\\n",
       "0             75.892471                   22.765049   \n",
       "1             77.683237                   13.043041   \n",
       "2             77.678400                   12.924264   \n",
       "3             76.976494                   11.053669   \n",
       "4             80.249982                   13.012793   \n",
       "\n",
       "   Delivery_location_longitude  Order_Date Time_Orderd Time_Order_picked  \\\n",
       "0                    75.912471  19-03-2022    11:30:00          11:45:00   \n",
       "1                    77.813237  25-03-2022    19:45:00          19:50:00   \n",
       "2                    77.688400  19-03-2022    08:30:00          08:45:00   \n",
       "3                    77.026494  05-04-2022    18:00:00          18:10:00   \n",
       "4                    80.289982  26-03-2022    13:30:00          13:45:00   \n",
       "\n",
       "  Weatherconditions Road_traffic_density  Vehicle_condition Type_of_order  \\\n",
       "0             Sunny                 High                  2         Snack   \n",
       "1            Stormy                  Jam                  2         Snack   \n",
       "2        Sandstorms                  Low                  0        Drinks   \n",
       "3             Sunny               Medium                  0        Buffet   \n",
       "4            Cloudy                 High                  1         Snack   \n",
       "\n",
       "  Type_of_vehicle multiple_deliveries Festival           City Time_taken(min)  \n",
       "0      motorcycle                   0      No           Urban              24  \n",
       "1         scooter                   1      No   Metropolitian              33  \n",
       "2      motorcycle                   1      No           Urban              26  \n",
       "3      motorcycle                   1      No   Metropolitian              21  \n",
       "4         scooter                   1      No   Metropolitian              30  "
      ],
      "text/html": [
       "<div>\n",
       "<style scoped>\n",
       "    .dataframe tbody tr th:only-of-type {\n",
       "        vertical-align: middle;\n",
       "    }\n",
       "\n",
       "    .dataframe tbody tr th {\n",
       "        vertical-align: top;\n",
       "    }\n",
       "\n",
       "    .dataframe thead th {\n",
       "        text-align: right;\n",
       "    }\n",
       "</style>\n",
       "<table border=\"1\" class=\"dataframe\">\n",
       "  <thead>\n",
       "    <tr style=\"text-align: right;\">\n",
       "      <th></th>\n",
       "      <th>Delivery_person_Age</th>\n",
       "      <th>Delivery_person_Ratings</th>\n",
       "      <th>Restaurant_latitude</th>\n",
       "      <th>Restaurant_longitude</th>\n",
       "      <th>Delivery_location_latitude</th>\n",
       "      <th>Delivery_location_longitude</th>\n",
       "      <th>Order_Date</th>\n",
       "      <th>Time_Orderd</th>\n",
       "      <th>Time_Order_picked</th>\n",
       "      <th>Weatherconditions</th>\n",
       "      <th>Road_traffic_density</th>\n",
       "      <th>Vehicle_condition</th>\n",
       "      <th>Type_of_order</th>\n",
       "      <th>Type_of_vehicle</th>\n",
       "      <th>multiple_deliveries</th>\n",
       "      <th>Festival</th>\n",
       "      <th>City</th>\n",
       "      <th>Time_taken(min)</th>\n",
       "    </tr>\n",
       "  </thead>\n",
       "  <tbody>\n",
       "    <tr>\n",
       "      <th>0</th>\n",
       "      <td>37.0</td>\n",
       "      <td>4.9</td>\n",
       "      <td>22.745049</td>\n",
       "      <td>75.892471</td>\n",
       "      <td>22.765049</td>\n",
       "      <td>75.912471</td>\n",
       "      <td>19-03-2022</td>\n",
       "      <td>11:30:00</td>\n",
       "      <td>11:45:00</td>\n",
       "      <td>Sunny</td>\n",
       "      <td>High</td>\n",
       "      <td>2</td>\n",
       "      <td>Snack</td>\n",
       "      <td>motorcycle</td>\n",
       "      <td>0</td>\n",
       "      <td>No</td>\n",
       "      <td>Urban</td>\n",
       "      <td>24</td>\n",
       "    </tr>\n",
       "    <tr>\n",
       "      <th>1</th>\n",
       "      <td>34.0</td>\n",
       "      <td>4.5</td>\n",
       "      <td>12.913041</td>\n",
       "      <td>77.683237</td>\n",
       "      <td>13.043041</td>\n",
       "      <td>77.813237</td>\n",
       "      <td>25-03-2022</td>\n",
       "      <td>19:45:00</td>\n",
       "      <td>19:50:00</td>\n",
       "      <td>Stormy</td>\n",
       "      <td>Jam</td>\n",
       "      <td>2</td>\n",
       "      <td>Snack</td>\n",
       "      <td>scooter</td>\n",
       "      <td>1</td>\n",
       "      <td>No</td>\n",
       "      <td>Metropolitian</td>\n",
       "      <td>33</td>\n",
       "    </tr>\n",
       "    <tr>\n",
       "      <th>2</th>\n",
       "      <td>23.0</td>\n",
       "      <td>4.4</td>\n",
       "      <td>12.914264</td>\n",
       "      <td>77.678400</td>\n",
       "      <td>12.924264</td>\n",
       "      <td>77.688400</td>\n",
       "      <td>19-03-2022</td>\n",
       "      <td>08:30:00</td>\n",
       "      <td>08:45:00</td>\n",
       "      <td>Sandstorms</td>\n",
       "      <td>Low</td>\n",
       "      <td>0</td>\n",
       "      <td>Drinks</td>\n",
       "      <td>motorcycle</td>\n",
       "      <td>1</td>\n",
       "      <td>No</td>\n",
       "      <td>Urban</td>\n",
       "      <td>26</td>\n",
       "    </tr>\n",
       "    <tr>\n",
       "      <th>3</th>\n",
       "      <td>38.0</td>\n",
       "      <td>4.7</td>\n",
       "      <td>11.003669</td>\n",
       "      <td>76.976494</td>\n",
       "      <td>11.053669</td>\n",
       "      <td>77.026494</td>\n",
       "      <td>05-04-2022</td>\n",
       "      <td>18:00:00</td>\n",
       "      <td>18:10:00</td>\n",
       "      <td>Sunny</td>\n",
       "      <td>Medium</td>\n",
       "      <td>0</td>\n",
       "      <td>Buffet</td>\n",
       "      <td>motorcycle</td>\n",
       "      <td>1</td>\n",
       "      <td>No</td>\n",
       "      <td>Metropolitian</td>\n",
       "      <td>21</td>\n",
       "    </tr>\n",
       "    <tr>\n",
       "      <th>4</th>\n",
       "      <td>32.0</td>\n",
       "      <td>4.6</td>\n",
       "      <td>12.972793</td>\n",
       "      <td>80.249982</td>\n",
       "      <td>13.012793</td>\n",
       "      <td>80.289982</td>\n",
       "      <td>26-03-2022</td>\n",
       "      <td>13:30:00</td>\n",
       "      <td>13:45:00</td>\n",
       "      <td>Cloudy</td>\n",
       "      <td>High</td>\n",
       "      <td>1</td>\n",
       "      <td>Snack</td>\n",
       "      <td>scooter</td>\n",
       "      <td>1</td>\n",
       "      <td>No</td>\n",
       "      <td>Metropolitian</td>\n",
       "      <td>30</td>\n",
       "    </tr>\n",
       "  </tbody>\n",
       "</table>\n",
       "</div>"
      ]
     },
     "execution_count": 95,
     "metadata": {},
     "output_type": "execute_result"
    }
   ],
   "execution_count": 95
  },
  {
   "metadata": {},
   "cell_type": "markdown",
   "source": "##### Change column data types",
   "id": "76b8ad84c34c7dbe"
  },
  {
   "metadata": {
    "ExecuteTime": {
     "end_time": "2024-12-19T14:34:12.614056Z",
     "start_time": "2024-12-19T14:34:12.594646Z"
    }
   },
   "cell_type": "code",
   "source": [
    "df['multiple_deliveries'] = df['multiple_deliveries'].astype(float)\n",
    "df['Order_Date']=pd.to_datetime(df['Order_Date'],format=\"%d-%m-%Y\")\n",
    "df[\"Time_taken(min)\"] = df[\"Time_taken(min)\"].astype(float)\n",
    "df[\"multiple_deliveries\"] = df[\"multiple_deliveries\"].astype(int)"
   ],
   "id": "1b0904429d073045",
   "outputs": [],
   "execution_count": 96
  },
  {
   "metadata": {},
   "cell_type": "markdown",
   "source": "### Feature Engineering",
   "id": "aaa67d77bae0c138"
  },
  {
   "metadata": {},
   "cell_type": "markdown",
   "source": "##### Creating new column containing the distance between the destination and the source using latitude and the longitude coordinates",
   "id": "d5502499e7dfd390"
  },
  {
   "metadata": {
    "ExecuteTime": {
     "end_time": "2024-12-19T14:34:12.683078Z",
     "start_time": "2024-12-19T14:34:12.679274Z"
    }
   },
   "cell_type": "code",
   "source": [
    "from geopy.distance import geodesic\n",
    "\n",
    "def give_distance(row):\n",
    "    restaurant = (row['Restaurant_latitude'], row['Restaurant_longitude'])\n",
    "    customer = (row['Delivery_location_latitude'], row['Delivery_location_longitude'])\n",
    "    distance = geodesic(restaurant, customer).km\n",
    "    return distance"
   ],
   "id": "37d464afa515ca8d",
   "outputs": [],
   "execution_count": 97
  },
  {
   "metadata": {
    "ExecuteTime": {
     "end_time": "2024-12-19T14:34:17.485450Z",
     "start_time": "2024-12-19T14:34:12.842952Z"
    }
   },
   "cell_type": "code",
   "source": "df['distance'] = df.apply(give_distance, axis=1)",
   "id": "f72d3fc47c55934b",
   "outputs": [],
   "execution_count": 98
  },
  {
   "metadata": {
    "ExecuteTime": {
     "end_time": "2024-12-19T14:34:17.565518Z",
     "start_time": "2024-12-19T14:34:17.554448Z"
    }
   },
   "cell_type": "code",
   "source": "df.head()",
   "id": "7cd4106f366f8ea5",
   "outputs": [
    {
     "data": {
      "text/plain": [
       "   Delivery_person_Age  Delivery_person_Ratings  Restaurant_latitude  \\\n",
       "0                 37.0                      4.9            22.745049   \n",
       "1                 34.0                      4.5            12.913041   \n",
       "2                 23.0                      4.4            12.914264   \n",
       "3                 38.0                      4.7            11.003669   \n",
       "4                 32.0                      4.6            12.972793   \n",
       "\n",
       "   Restaurant_longitude  Delivery_location_latitude  \\\n",
       "0             75.892471                   22.765049   \n",
       "1             77.683237                   13.043041   \n",
       "2             77.678400                   12.924264   \n",
       "3             76.976494                   11.053669   \n",
       "4             80.249982                   13.012793   \n",
       "\n",
       "   Delivery_location_longitude Order_Date Time_Orderd Time_Order_picked  \\\n",
       "0                    75.912471 2022-03-19    11:30:00          11:45:00   \n",
       "1                    77.813237 2022-03-25    19:45:00          19:50:00   \n",
       "2                    77.688400 2022-03-19    08:30:00          08:45:00   \n",
       "3                    77.026494 2022-04-05    18:00:00          18:10:00   \n",
       "4                    80.289982 2022-03-26    13:30:00          13:45:00   \n",
       "\n",
       "  Weatherconditions Road_traffic_density  Vehicle_condition Type_of_order  \\\n",
       "0             Sunny                 High                  2         Snack   \n",
       "1            Stormy                  Jam                  2         Snack   \n",
       "2        Sandstorms                  Low                  0        Drinks   \n",
       "3             Sunny               Medium                  0        Buffet   \n",
       "4            Cloudy                 High                  1         Snack   \n",
       "\n",
       "  Type_of_vehicle  multiple_deliveries Festival           City  \\\n",
       "0      motorcycle                    0      No           Urban   \n",
       "1         scooter                    1      No   Metropolitian   \n",
       "2      motorcycle                    1      No           Urban   \n",
       "3      motorcycle                    1      No   Metropolitian   \n",
       "4         scooter                    1      No   Metropolitian   \n",
       "\n",
       "   Time_taken(min)   distance  \n",
       "0             24.0   3.020737  \n",
       "1             33.0  20.143737  \n",
       "2             26.0   1.549693  \n",
       "3             21.0   7.774497  \n",
       "4             30.0   6.197898  "
      ],
      "text/html": [
       "<div>\n",
       "<style scoped>\n",
       "    .dataframe tbody tr th:only-of-type {\n",
       "        vertical-align: middle;\n",
       "    }\n",
       "\n",
       "    .dataframe tbody tr th {\n",
       "        vertical-align: top;\n",
       "    }\n",
       "\n",
       "    .dataframe thead th {\n",
       "        text-align: right;\n",
       "    }\n",
       "</style>\n",
       "<table border=\"1\" class=\"dataframe\">\n",
       "  <thead>\n",
       "    <tr style=\"text-align: right;\">\n",
       "      <th></th>\n",
       "      <th>Delivery_person_Age</th>\n",
       "      <th>Delivery_person_Ratings</th>\n",
       "      <th>Restaurant_latitude</th>\n",
       "      <th>Restaurant_longitude</th>\n",
       "      <th>Delivery_location_latitude</th>\n",
       "      <th>Delivery_location_longitude</th>\n",
       "      <th>Order_Date</th>\n",
       "      <th>Time_Orderd</th>\n",
       "      <th>Time_Order_picked</th>\n",
       "      <th>Weatherconditions</th>\n",
       "      <th>Road_traffic_density</th>\n",
       "      <th>Vehicle_condition</th>\n",
       "      <th>Type_of_order</th>\n",
       "      <th>Type_of_vehicle</th>\n",
       "      <th>multiple_deliveries</th>\n",
       "      <th>Festival</th>\n",
       "      <th>City</th>\n",
       "      <th>Time_taken(min)</th>\n",
       "      <th>distance</th>\n",
       "    </tr>\n",
       "  </thead>\n",
       "  <tbody>\n",
       "    <tr>\n",
       "      <th>0</th>\n",
       "      <td>37.0</td>\n",
       "      <td>4.9</td>\n",
       "      <td>22.745049</td>\n",
       "      <td>75.892471</td>\n",
       "      <td>22.765049</td>\n",
       "      <td>75.912471</td>\n",
       "      <td>2022-03-19</td>\n",
       "      <td>11:30:00</td>\n",
       "      <td>11:45:00</td>\n",
       "      <td>Sunny</td>\n",
       "      <td>High</td>\n",
       "      <td>2</td>\n",
       "      <td>Snack</td>\n",
       "      <td>motorcycle</td>\n",
       "      <td>0</td>\n",
       "      <td>No</td>\n",
       "      <td>Urban</td>\n",
       "      <td>24.0</td>\n",
       "      <td>3.020737</td>\n",
       "    </tr>\n",
       "    <tr>\n",
       "      <th>1</th>\n",
       "      <td>34.0</td>\n",
       "      <td>4.5</td>\n",
       "      <td>12.913041</td>\n",
       "      <td>77.683237</td>\n",
       "      <td>13.043041</td>\n",
       "      <td>77.813237</td>\n",
       "      <td>2022-03-25</td>\n",
       "      <td>19:45:00</td>\n",
       "      <td>19:50:00</td>\n",
       "      <td>Stormy</td>\n",
       "      <td>Jam</td>\n",
       "      <td>2</td>\n",
       "      <td>Snack</td>\n",
       "      <td>scooter</td>\n",
       "      <td>1</td>\n",
       "      <td>No</td>\n",
       "      <td>Metropolitian</td>\n",
       "      <td>33.0</td>\n",
       "      <td>20.143737</td>\n",
       "    </tr>\n",
       "    <tr>\n",
       "      <th>2</th>\n",
       "      <td>23.0</td>\n",
       "      <td>4.4</td>\n",
       "      <td>12.914264</td>\n",
       "      <td>77.678400</td>\n",
       "      <td>12.924264</td>\n",
       "      <td>77.688400</td>\n",
       "      <td>2022-03-19</td>\n",
       "      <td>08:30:00</td>\n",
       "      <td>08:45:00</td>\n",
       "      <td>Sandstorms</td>\n",
       "      <td>Low</td>\n",
       "      <td>0</td>\n",
       "      <td>Drinks</td>\n",
       "      <td>motorcycle</td>\n",
       "      <td>1</td>\n",
       "      <td>No</td>\n",
       "      <td>Urban</td>\n",
       "      <td>26.0</td>\n",
       "      <td>1.549693</td>\n",
       "    </tr>\n",
       "    <tr>\n",
       "      <th>3</th>\n",
       "      <td>38.0</td>\n",
       "      <td>4.7</td>\n",
       "      <td>11.003669</td>\n",
       "      <td>76.976494</td>\n",
       "      <td>11.053669</td>\n",
       "      <td>77.026494</td>\n",
       "      <td>2022-04-05</td>\n",
       "      <td>18:00:00</td>\n",
       "      <td>18:10:00</td>\n",
       "      <td>Sunny</td>\n",
       "      <td>Medium</td>\n",
       "      <td>0</td>\n",
       "      <td>Buffet</td>\n",
       "      <td>motorcycle</td>\n",
       "      <td>1</td>\n",
       "      <td>No</td>\n",
       "      <td>Metropolitian</td>\n",
       "      <td>21.0</td>\n",
       "      <td>7.774497</td>\n",
       "    </tr>\n",
       "    <tr>\n",
       "      <th>4</th>\n",
       "      <td>32.0</td>\n",
       "      <td>4.6</td>\n",
       "      <td>12.972793</td>\n",
       "      <td>80.249982</td>\n",
       "      <td>13.012793</td>\n",
       "      <td>80.289982</td>\n",
       "      <td>2022-03-26</td>\n",
       "      <td>13:30:00</td>\n",
       "      <td>13:45:00</td>\n",
       "      <td>Cloudy</td>\n",
       "      <td>High</td>\n",
       "      <td>1</td>\n",
       "      <td>Snack</td>\n",
       "      <td>scooter</td>\n",
       "      <td>1</td>\n",
       "      <td>No</td>\n",
       "      <td>Metropolitian</td>\n",
       "      <td>30.0</td>\n",
       "      <td>6.197898</td>\n",
       "    </tr>\n",
       "  </tbody>\n",
       "</table>\n",
       "</div>"
      ]
     },
     "execution_count": 99,
     "metadata": {},
     "output_type": "execute_result"
    }
   ],
   "execution_count": 99
  },
  {
   "metadata": {},
   "cell_type": "markdown",
   "source": "##### Drop latitude and the longitude coordinate columns",
   "id": "d703051888b13760"
  },
  {
   "metadata": {
    "ExecuteTime": {
     "end_time": "2024-12-19T14:34:17.640823Z",
     "start_time": "2024-12-19T14:34:17.624695Z"
    }
   },
   "cell_type": "code",
   "source": "df = df.drop(columns=[\"Restaurant_latitude\", \"Restaurant_longitude\", \"Delivery_location_latitude\", \"Delivery_location_longitude\"])",
   "id": "d7e5bbae1523a3ea",
   "outputs": [],
   "execution_count": 100
  },
  {
   "metadata": {
    "ExecuteTime": {
     "end_time": "2024-12-19T14:34:17.741849Z",
     "start_time": "2024-12-19T14:34:17.730655Z"
    }
   },
   "cell_type": "code",
   "source": "df.head()",
   "id": "895d0e858c321c0",
   "outputs": [
    {
     "data": {
      "text/plain": [
       "   Delivery_person_Age  Delivery_person_Ratings Order_Date Time_Orderd  \\\n",
       "0                 37.0                      4.9 2022-03-19    11:30:00   \n",
       "1                 34.0                      4.5 2022-03-25    19:45:00   \n",
       "2                 23.0                      4.4 2022-03-19    08:30:00   \n",
       "3                 38.0                      4.7 2022-04-05    18:00:00   \n",
       "4                 32.0                      4.6 2022-03-26    13:30:00   \n",
       "\n",
       "  Time_Order_picked Weatherconditions Road_traffic_density  Vehicle_condition  \\\n",
       "0          11:45:00             Sunny                 High                  2   \n",
       "1          19:50:00            Stormy                  Jam                  2   \n",
       "2          08:45:00        Sandstorms                  Low                  0   \n",
       "3          18:10:00             Sunny               Medium                  0   \n",
       "4          13:45:00            Cloudy                 High                  1   \n",
       "\n",
       "  Type_of_order Type_of_vehicle  multiple_deliveries Festival           City  \\\n",
       "0         Snack      motorcycle                    0      No           Urban   \n",
       "1         Snack         scooter                    1      No   Metropolitian   \n",
       "2        Drinks      motorcycle                    1      No           Urban   \n",
       "3        Buffet      motorcycle                    1      No   Metropolitian   \n",
       "4         Snack         scooter                    1      No   Metropolitian   \n",
       "\n",
       "   Time_taken(min)   distance  \n",
       "0             24.0   3.020737  \n",
       "1             33.0  20.143737  \n",
       "2             26.0   1.549693  \n",
       "3             21.0   7.774497  \n",
       "4             30.0   6.197898  "
      ],
      "text/html": [
       "<div>\n",
       "<style scoped>\n",
       "    .dataframe tbody tr th:only-of-type {\n",
       "        vertical-align: middle;\n",
       "    }\n",
       "\n",
       "    .dataframe tbody tr th {\n",
       "        vertical-align: top;\n",
       "    }\n",
       "\n",
       "    .dataframe thead th {\n",
       "        text-align: right;\n",
       "    }\n",
       "</style>\n",
       "<table border=\"1\" class=\"dataframe\">\n",
       "  <thead>\n",
       "    <tr style=\"text-align: right;\">\n",
       "      <th></th>\n",
       "      <th>Delivery_person_Age</th>\n",
       "      <th>Delivery_person_Ratings</th>\n",
       "      <th>Order_Date</th>\n",
       "      <th>Time_Orderd</th>\n",
       "      <th>Time_Order_picked</th>\n",
       "      <th>Weatherconditions</th>\n",
       "      <th>Road_traffic_density</th>\n",
       "      <th>Vehicle_condition</th>\n",
       "      <th>Type_of_order</th>\n",
       "      <th>Type_of_vehicle</th>\n",
       "      <th>multiple_deliveries</th>\n",
       "      <th>Festival</th>\n",
       "      <th>City</th>\n",
       "      <th>Time_taken(min)</th>\n",
       "      <th>distance</th>\n",
       "    </tr>\n",
       "  </thead>\n",
       "  <tbody>\n",
       "    <tr>\n",
       "      <th>0</th>\n",
       "      <td>37.0</td>\n",
       "      <td>4.9</td>\n",
       "      <td>2022-03-19</td>\n",
       "      <td>11:30:00</td>\n",
       "      <td>11:45:00</td>\n",
       "      <td>Sunny</td>\n",
       "      <td>High</td>\n",
       "      <td>2</td>\n",
       "      <td>Snack</td>\n",
       "      <td>motorcycle</td>\n",
       "      <td>0</td>\n",
       "      <td>No</td>\n",
       "      <td>Urban</td>\n",
       "      <td>24.0</td>\n",
       "      <td>3.020737</td>\n",
       "    </tr>\n",
       "    <tr>\n",
       "      <th>1</th>\n",
       "      <td>34.0</td>\n",
       "      <td>4.5</td>\n",
       "      <td>2022-03-25</td>\n",
       "      <td>19:45:00</td>\n",
       "      <td>19:50:00</td>\n",
       "      <td>Stormy</td>\n",
       "      <td>Jam</td>\n",
       "      <td>2</td>\n",
       "      <td>Snack</td>\n",
       "      <td>scooter</td>\n",
       "      <td>1</td>\n",
       "      <td>No</td>\n",
       "      <td>Metropolitian</td>\n",
       "      <td>33.0</td>\n",
       "      <td>20.143737</td>\n",
       "    </tr>\n",
       "    <tr>\n",
       "      <th>2</th>\n",
       "      <td>23.0</td>\n",
       "      <td>4.4</td>\n",
       "      <td>2022-03-19</td>\n",
       "      <td>08:30:00</td>\n",
       "      <td>08:45:00</td>\n",
       "      <td>Sandstorms</td>\n",
       "      <td>Low</td>\n",
       "      <td>0</td>\n",
       "      <td>Drinks</td>\n",
       "      <td>motorcycle</td>\n",
       "      <td>1</td>\n",
       "      <td>No</td>\n",
       "      <td>Urban</td>\n",
       "      <td>26.0</td>\n",
       "      <td>1.549693</td>\n",
       "    </tr>\n",
       "    <tr>\n",
       "      <th>3</th>\n",
       "      <td>38.0</td>\n",
       "      <td>4.7</td>\n",
       "      <td>2022-04-05</td>\n",
       "      <td>18:00:00</td>\n",
       "      <td>18:10:00</td>\n",
       "      <td>Sunny</td>\n",
       "      <td>Medium</td>\n",
       "      <td>0</td>\n",
       "      <td>Buffet</td>\n",
       "      <td>motorcycle</td>\n",
       "      <td>1</td>\n",
       "      <td>No</td>\n",
       "      <td>Metropolitian</td>\n",
       "      <td>21.0</td>\n",
       "      <td>7.774497</td>\n",
       "    </tr>\n",
       "    <tr>\n",
       "      <th>4</th>\n",
       "      <td>32.0</td>\n",
       "      <td>4.6</td>\n",
       "      <td>2022-03-26</td>\n",
       "      <td>13:30:00</td>\n",
       "      <td>13:45:00</td>\n",
       "      <td>Cloudy</td>\n",
       "      <td>High</td>\n",
       "      <td>1</td>\n",
       "      <td>Snack</td>\n",
       "      <td>scooter</td>\n",
       "      <td>1</td>\n",
       "      <td>No</td>\n",
       "      <td>Metropolitian</td>\n",
       "      <td>30.0</td>\n",
       "      <td>6.197898</td>\n",
       "    </tr>\n",
       "  </tbody>\n",
       "</table>\n",
       "</div>"
      ]
     },
     "execution_count": 101,
     "metadata": {},
     "output_type": "execute_result"
    }
   ],
   "execution_count": 101
  },
  {
   "metadata": {},
   "cell_type": "markdown",
   "source": "##### Creating new column containing time to prepare order",
   "id": "1d994903df88bc23"
  },
  {
   "metadata": {
    "ExecuteTime": {
     "end_time": "2024-12-19T14:34:18.049708Z",
     "start_time": "2024-12-19T14:34:17.912144Z"
    }
   },
   "cell_type": "code",
   "source": [
    "df[\"Time_Orderd\"] = pd.to_timedelta(df[\"Time_Orderd\"])\n",
    "df[\"Time_Order_picked\"] = pd.to_timedelta(df[\"Time_Order_picked\"])"
   ],
   "id": "f636f44b1f35fda7",
   "outputs": [],
   "execution_count": 102
  },
  {
   "metadata": {
    "ExecuteTime": {
     "end_time": "2024-12-19T14:34:19.181052Z",
     "start_time": "2024-12-19T14:34:18.168046Z"
    }
   },
   "cell_type": "code",
   "source": [
    "df[\"Order_DateTime\"] = pd.to_datetime(df[\"Order_Date\"] + df[\"Time_Orderd\"])\n",
    "df['Picked_DateTime'] = pd.to_datetime(df['Order_Date'] + np.where(df['Time_Order_picked'] < df['Time_Orderd'], pd.DateOffset(days=1), pd.DateOffset(days=0)) + df['Time_Order_picked'])"
   ],
   "id": "2a7f004d02f9a38d",
   "outputs": [],
   "execution_count": 103
  },
  {
   "metadata": {
    "ExecuteTime": {
     "end_time": "2024-12-19T14:34:19.251263Z",
     "start_time": "2024-12-19T14:34:19.243884Z"
    }
   },
   "cell_type": "code",
   "source": [
    "df[\"Prepare_time\"] = (df[\"Picked_DateTime\"] - df[\"Order_DateTime\"]).dt.total_seconds() / 60\n",
    "df['Prepare_time'].fillna(df['Prepare_time'].median(), inplace=True)"
   ],
   "id": "64b0391e0518126c",
   "outputs": [],
   "execution_count": 104
  },
  {
   "metadata": {
    "ExecuteTime": {
     "end_time": "2024-12-19T14:34:19.293576Z",
     "start_time": "2024-12-19T14:34:19.283057Z"
    }
   },
   "cell_type": "code",
   "source": "df = df.drop(columns=[\"Order_Date\", \"Time_Orderd\", \"Time_Order_picked\", \"Order_DateTime\", \"Picked_DateTime\"])",
   "id": "de3c919b3629360b",
   "outputs": [],
   "execution_count": 105
  },
  {
   "metadata": {
    "ExecuteTime": {
     "end_time": "2024-12-19T14:34:19.352846Z",
     "start_time": "2024-12-19T14:34:19.341297Z"
    }
   },
   "cell_type": "code",
   "source": "df.head()",
   "id": "14e5dc8bde9d1dea",
   "outputs": [
    {
     "data": {
      "text/plain": [
       "   Delivery_person_Age  Delivery_person_Ratings Weatherconditions  \\\n",
       "0                 37.0                      4.9             Sunny   \n",
       "1                 34.0                      4.5            Stormy   \n",
       "2                 23.0                      4.4        Sandstorms   \n",
       "3                 38.0                      4.7             Sunny   \n",
       "4                 32.0                      4.6            Cloudy   \n",
       "\n",
       "  Road_traffic_density  Vehicle_condition Type_of_order Type_of_vehicle  \\\n",
       "0                 High                  2         Snack      motorcycle   \n",
       "1                  Jam                  2         Snack         scooter   \n",
       "2                  Low                  0        Drinks      motorcycle   \n",
       "3               Medium                  0        Buffet      motorcycle   \n",
       "4                 High                  1         Snack         scooter   \n",
       "\n",
       "   multiple_deliveries Festival           City  Time_taken(min)   distance  \\\n",
       "0                    0      No           Urban             24.0   3.020737   \n",
       "1                    1      No   Metropolitian             33.0  20.143737   \n",
       "2                    1      No           Urban             26.0   1.549693   \n",
       "3                    1      No   Metropolitian             21.0   7.774497   \n",
       "4                    1      No   Metropolitian             30.0   6.197898   \n",
       "\n",
       "   Prepare_time  \n",
       "0          15.0  \n",
       "1           5.0  \n",
       "2          15.0  \n",
       "3          10.0  \n",
       "4          15.0  "
      ],
      "text/html": [
       "<div>\n",
       "<style scoped>\n",
       "    .dataframe tbody tr th:only-of-type {\n",
       "        vertical-align: middle;\n",
       "    }\n",
       "\n",
       "    .dataframe tbody tr th {\n",
       "        vertical-align: top;\n",
       "    }\n",
       "\n",
       "    .dataframe thead th {\n",
       "        text-align: right;\n",
       "    }\n",
       "</style>\n",
       "<table border=\"1\" class=\"dataframe\">\n",
       "  <thead>\n",
       "    <tr style=\"text-align: right;\">\n",
       "      <th></th>\n",
       "      <th>Delivery_person_Age</th>\n",
       "      <th>Delivery_person_Ratings</th>\n",
       "      <th>Weatherconditions</th>\n",
       "      <th>Road_traffic_density</th>\n",
       "      <th>Vehicle_condition</th>\n",
       "      <th>Type_of_order</th>\n",
       "      <th>Type_of_vehicle</th>\n",
       "      <th>multiple_deliveries</th>\n",
       "      <th>Festival</th>\n",
       "      <th>City</th>\n",
       "      <th>Time_taken(min)</th>\n",
       "      <th>distance</th>\n",
       "      <th>Prepare_time</th>\n",
       "    </tr>\n",
       "  </thead>\n",
       "  <tbody>\n",
       "    <tr>\n",
       "      <th>0</th>\n",
       "      <td>37.0</td>\n",
       "      <td>4.9</td>\n",
       "      <td>Sunny</td>\n",
       "      <td>High</td>\n",
       "      <td>2</td>\n",
       "      <td>Snack</td>\n",
       "      <td>motorcycle</td>\n",
       "      <td>0</td>\n",
       "      <td>No</td>\n",
       "      <td>Urban</td>\n",
       "      <td>24.0</td>\n",
       "      <td>3.020737</td>\n",
       "      <td>15.0</td>\n",
       "    </tr>\n",
       "    <tr>\n",
       "      <th>1</th>\n",
       "      <td>34.0</td>\n",
       "      <td>4.5</td>\n",
       "      <td>Stormy</td>\n",
       "      <td>Jam</td>\n",
       "      <td>2</td>\n",
       "      <td>Snack</td>\n",
       "      <td>scooter</td>\n",
       "      <td>1</td>\n",
       "      <td>No</td>\n",
       "      <td>Metropolitian</td>\n",
       "      <td>33.0</td>\n",
       "      <td>20.143737</td>\n",
       "      <td>5.0</td>\n",
       "    </tr>\n",
       "    <tr>\n",
       "      <th>2</th>\n",
       "      <td>23.0</td>\n",
       "      <td>4.4</td>\n",
       "      <td>Sandstorms</td>\n",
       "      <td>Low</td>\n",
       "      <td>0</td>\n",
       "      <td>Drinks</td>\n",
       "      <td>motorcycle</td>\n",
       "      <td>1</td>\n",
       "      <td>No</td>\n",
       "      <td>Urban</td>\n",
       "      <td>26.0</td>\n",
       "      <td>1.549693</td>\n",
       "      <td>15.0</td>\n",
       "    </tr>\n",
       "    <tr>\n",
       "      <th>3</th>\n",
       "      <td>38.0</td>\n",
       "      <td>4.7</td>\n",
       "      <td>Sunny</td>\n",
       "      <td>Medium</td>\n",
       "      <td>0</td>\n",
       "      <td>Buffet</td>\n",
       "      <td>motorcycle</td>\n",
       "      <td>1</td>\n",
       "      <td>No</td>\n",
       "      <td>Metropolitian</td>\n",
       "      <td>21.0</td>\n",
       "      <td>7.774497</td>\n",
       "      <td>10.0</td>\n",
       "    </tr>\n",
       "    <tr>\n",
       "      <th>4</th>\n",
       "      <td>32.0</td>\n",
       "      <td>4.6</td>\n",
       "      <td>Cloudy</td>\n",
       "      <td>High</td>\n",
       "      <td>1</td>\n",
       "      <td>Snack</td>\n",
       "      <td>scooter</td>\n",
       "      <td>1</td>\n",
       "      <td>No</td>\n",
       "      <td>Metropolitian</td>\n",
       "      <td>30.0</td>\n",
       "      <td>6.197898</td>\n",
       "      <td>15.0</td>\n",
       "    </tr>\n",
       "  </tbody>\n",
       "</table>\n",
       "</div>"
      ]
     },
     "execution_count": 106,
     "metadata": {},
     "output_type": "execute_result"
    }
   ],
   "execution_count": 106
  },
  {
   "metadata": {
    "ExecuteTime": {
     "end_time": "2024-12-19T14:34:19.421367Z",
     "start_time": "2024-12-19T14:34:19.404181Z"
    }
   },
   "cell_type": "code",
   "source": "df.info()",
   "id": "e28852e475620b67",
   "outputs": [
    {
     "name": "stdout",
     "output_type": "stream",
     "text": [
      "<class 'pandas.core.frame.DataFrame'>\n",
      "RangeIndex: 45593 entries, 0 to 45592\n",
      "Data columns (total 13 columns):\n",
      " #   Column                   Non-Null Count  Dtype  \n",
      "---  ------                   --------------  -----  \n",
      " 0   Delivery_person_Age      45593 non-null  float64\n",
      " 1   Delivery_person_Ratings  45593 non-null  float64\n",
      " 2   Weatherconditions        45593 non-null  object \n",
      " 3   Road_traffic_density     45593 non-null  object \n",
      " 4   Vehicle_condition        45593 non-null  int64  \n",
      " 5   Type_of_order            45593 non-null  object \n",
      " 6   Type_of_vehicle          45593 non-null  object \n",
      " 7   multiple_deliveries      45593 non-null  int64  \n",
      " 8   Festival                 45593 non-null  object \n",
      " 9   City                     45593 non-null  object \n",
      " 10  Time_taken(min)          45593 non-null  float64\n",
      " 11  distance                 45593 non-null  float64\n",
      " 12  Prepare_time             45593 non-null  float64\n",
      "dtypes: float64(5), int64(2), object(6)\n",
      "memory usage: 4.5+ MB\n"
     ]
    }
   ],
   "execution_count": 107
  },
  {
   "metadata": {},
   "cell_type": "markdown",
   "source": "#### Data Encoding",
   "id": "8ce2d9bc1e932f40"
  },
  {
   "metadata": {},
   "cell_type": "markdown",
   "source": "##### Label Encoding",
   "id": "c3331da814054305"
  },
  {
   "metadata": {
    "ExecuteTime": {
     "end_time": "2024-12-19T14:34:19.544120Z",
     "start_time": "2024-12-19T14:34:19.502114Z"
    }
   },
   "cell_type": "code",
   "source": [
    "from sklearn.preprocessing import LabelEncoder\n",
    "\n",
    "le = LabelEncoder()\n",
    "\n",
    "# Encode all columns the data type is object without using for loop\n",
    "df_le = df.apply(lambda c: le.fit_transform(c) if c.dtype == 'object' else c)\n"
   ],
   "id": "340a68d06df260a9",
   "outputs": [],
   "execution_count": 108
  },
  {
   "metadata": {},
   "cell_type": "markdown",
   "source": "##### One Hot Encoding",
   "id": "6f86728112bc2f1e"
  },
  {
   "metadata": {
    "ExecuteTime": {
     "end_time": "2024-12-19T14:34:19.737520Z",
     "start_time": "2024-12-19T14:34:19.667478Z"
    }
   },
   "cell_type": "code",
   "source": [
    "df_ohe = pd.get_dummies(df, columns=df.select_dtypes(include='object').columns, dtype=int)\n",
    "df_ohe.head()"
   ],
   "id": "52f7ae70729f34c4",
   "outputs": [
    {
     "data": {
      "text/plain": [
       "   Delivery_person_Age  Delivery_person_Ratings  Vehicle_condition  \\\n",
       "0                 37.0                      4.9                  2   \n",
       "1                 34.0                      4.5                  2   \n",
       "2                 23.0                      4.4                  0   \n",
       "3                 38.0                      4.7                  0   \n",
       "4                 32.0                      4.6                  1   \n",
       "\n",
       "   multiple_deliveries  Time_taken(min)   distance  Prepare_time  \\\n",
       "0                    0             24.0   3.020737          15.0   \n",
       "1                    1             33.0  20.143737           5.0   \n",
       "2                    1             26.0   1.549693          15.0   \n",
       "3                    1             21.0   7.774497          10.0   \n",
       "4                    1             30.0   6.197898          15.0   \n",
       "\n",
       "   Weatherconditions_Cloudy  Weatherconditions_Fog  \\\n",
       "0                         0                      0   \n",
       "1                         0                      0   \n",
       "2                         0                      0   \n",
       "3                         0                      0   \n",
       "4                         1                      0   \n",
       "\n",
       "   Weatherconditions_Sandstorms  ...  Type_of_order_Snack  \\\n",
       "0                             0  ...                    1   \n",
       "1                             0  ...                    1   \n",
       "2                             1  ...                    0   \n",
       "3                             0  ...                    0   \n",
       "4                             0  ...                    1   \n",
       "\n",
       "   Type_of_vehicle_bicycle  Type_of_vehicle_electric_scooter  \\\n",
       "0                        0                                 0   \n",
       "1                        0                                 0   \n",
       "2                        0                                 0   \n",
       "3                        0                                 0   \n",
       "4                        0                                 0   \n",
       "\n",
       "   Type_of_vehicle_motorcycle  Type_of_vehicle_scooter  Festival_No   \\\n",
       "0                           1                        0             1   \n",
       "1                           0                        1             1   \n",
       "2                           1                        0             1   \n",
       "3                           1                        0             1   \n",
       "4                           0                        1             1   \n",
       "\n",
       "   Festival_Yes   City_Metropolitian  City_Semi-Urban  City_Urban  \n",
       "0              0                   0                0           1  \n",
       "1              0                   1                0           0  \n",
       "2              0                   0                0           1  \n",
       "3              0                   1                0           0  \n",
       "4              0                   1                0           0  \n",
       "\n",
       "[5 rows x 30 columns]"
      ],
      "text/html": [
       "<div>\n",
       "<style scoped>\n",
       "    .dataframe tbody tr th:only-of-type {\n",
       "        vertical-align: middle;\n",
       "    }\n",
       "\n",
       "    .dataframe tbody tr th {\n",
       "        vertical-align: top;\n",
       "    }\n",
       "\n",
       "    .dataframe thead th {\n",
       "        text-align: right;\n",
       "    }\n",
       "</style>\n",
       "<table border=\"1\" class=\"dataframe\">\n",
       "  <thead>\n",
       "    <tr style=\"text-align: right;\">\n",
       "      <th></th>\n",
       "      <th>Delivery_person_Age</th>\n",
       "      <th>Delivery_person_Ratings</th>\n",
       "      <th>Vehicle_condition</th>\n",
       "      <th>multiple_deliveries</th>\n",
       "      <th>Time_taken(min)</th>\n",
       "      <th>distance</th>\n",
       "      <th>Prepare_time</th>\n",
       "      <th>Weatherconditions_Cloudy</th>\n",
       "      <th>Weatherconditions_Fog</th>\n",
       "      <th>Weatherconditions_Sandstorms</th>\n",
       "      <th>...</th>\n",
       "      <th>Type_of_order_Snack</th>\n",
       "      <th>Type_of_vehicle_bicycle</th>\n",
       "      <th>Type_of_vehicle_electric_scooter</th>\n",
       "      <th>Type_of_vehicle_motorcycle</th>\n",
       "      <th>Type_of_vehicle_scooter</th>\n",
       "      <th>Festival_No</th>\n",
       "      <th>Festival_Yes</th>\n",
       "      <th>City_Metropolitian</th>\n",
       "      <th>City_Semi-Urban</th>\n",
       "      <th>City_Urban</th>\n",
       "    </tr>\n",
       "  </thead>\n",
       "  <tbody>\n",
       "    <tr>\n",
       "      <th>0</th>\n",
       "      <td>37.0</td>\n",
       "      <td>4.9</td>\n",
       "      <td>2</td>\n",
       "      <td>0</td>\n",
       "      <td>24.0</td>\n",
       "      <td>3.020737</td>\n",
       "      <td>15.0</td>\n",
       "      <td>0</td>\n",
       "      <td>0</td>\n",
       "      <td>0</td>\n",
       "      <td>...</td>\n",
       "      <td>1</td>\n",
       "      <td>0</td>\n",
       "      <td>0</td>\n",
       "      <td>1</td>\n",
       "      <td>0</td>\n",
       "      <td>1</td>\n",
       "      <td>0</td>\n",
       "      <td>0</td>\n",
       "      <td>0</td>\n",
       "      <td>1</td>\n",
       "    </tr>\n",
       "    <tr>\n",
       "      <th>1</th>\n",
       "      <td>34.0</td>\n",
       "      <td>4.5</td>\n",
       "      <td>2</td>\n",
       "      <td>1</td>\n",
       "      <td>33.0</td>\n",
       "      <td>20.143737</td>\n",
       "      <td>5.0</td>\n",
       "      <td>0</td>\n",
       "      <td>0</td>\n",
       "      <td>0</td>\n",
       "      <td>...</td>\n",
       "      <td>1</td>\n",
       "      <td>0</td>\n",
       "      <td>0</td>\n",
       "      <td>0</td>\n",
       "      <td>1</td>\n",
       "      <td>1</td>\n",
       "      <td>0</td>\n",
       "      <td>1</td>\n",
       "      <td>0</td>\n",
       "      <td>0</td>\n",
       "    </tr>\n",
       "    <tr>\n",
       "      <th>2</th>\n",
       "      <td>23.0</td>\n",
       "      <td>4.4</td>\n",
       "      <td>0</td>\n",
       "      <td>1</td>\n",
       "      <td>26.0</td>\n",
       "      <td>1.549693</td>\n",
       "      <td>15.0</td>\n",
       "      <td>0</td>\n",
       "      <td>0</td>\n",
       "      <td>1</td>\n",
       "      <td>...</td>\n",
       "      <td>0</td>\n",
       "      <td>0</td>\n",
       "      <td>0</td>\n",
       "      <td>1</td>\n",
       "      <td>0</td>\n",
       "      <td>1</td>\n",
       "      <td>0</td>\n",
       "      <td>0</td>\n",
       "      <td>0</td>\n",
       "      <td>1</td>\n",
       "    </tr>\n",
       "    <tr>\n",
       "      <th>3</th>\n",
       "      <td>38.0</td>\n",
       "      <td>4.7</td>\n",
       "      <td>0</td>\n",
       "      <td>1</td>\n",
       "      <td>21.0</td>\n",
       "      <td>7.774497</td>\n",
       "      <td>10.0</td>\n",
       "      <td>0</td>\n",
       "      <td>0</td>\n",
       "      <td>0</td>\n",
       "      <td>...</td>\n",
       "      <td>0</td>\n",
       "      <td>0</td>\n",
       "      <td>0</td>\n",
       "      <td>1</td>\n",
       "      <td>0</td>\n",
       "      <td>1</td>\n",
       "      <td>0</td>\n",
       "      <td>1</td>\n",
       "      <td>0</td>\n",
       "      <td>0</td>\n",
       "    </tr>\n",
       "    <tr>\n",
       "      <th>4</th>\n",
       "      <td>32.0</td>\n",
       "      <td>4.6</td>\n",
       "      <td>1</td>\n",
       "      <td>1</td>\n",
       "      <td>30.0</td>\n",
       "      <td>6.197898</td>\n",
       "      <td>15.0</td>\n",
       "      <td>1</td>\n",
       "      <td>0</td>\n",
       "      <td>0</td>\n",
       "      <td>...</td>\n",
       "      <td>1</td>\n",
       "      <td>0</td>\n",
       "      <td>0</td>\n",
       "      <td>0</td>\n",
       "      <td>1</td>\n",
       "      <td>1</td>\n",
       "      <td>0</td>\n",
       "      <td>1</td>\n",
       "      <td>0</td>\n",
       "      <td>0</td>\n",
       "    </tr>\n",
       "  </tbody>\n",
       "</table>\n",
       "<p>5 rows × 30 columns</p>\n",
       "</div>"
      ]
     },
     "execution_count": 109,
     "metadata": {},
     "output_type": "execute_result"
    }
   ],
   "execution_count": 109
  },
  {
   "metadata": {},
   "cell_type": "markdown",
   "source": "### Model Building",
   "id": "1a2fcd2c672b603a"
  },
  {
   "metadata": {},
   "cell_type": "markdown",
   "source": "#### Cross Validation",
   "id": "dcd914155a0ffa30"
  },
  {
   "metadata": {
    "ExecuteTime": {
     "end_time": "2024-12-19T14:34:19.860691Z",
     "start_time": "2024-12-19T14:34:19.853179Z"
    }
   },
   "cell_type": "code",
   "source": [
    "from sklearn.linear_model import LinearRegression\n",
    "from sklearn.tree import DecisionTreeRegressor\n",
    "from sklearn.ensemble import RandomForestRegressor\n",
    "from sklearn.ensemble import AdaBoostRegressor\n",
    "from sklearn.ensemble import GradientBoostingRegressor\n",
    "from sklearn.ensemble import BaggingRegressor\n",
    "from sklearn.ensemble import VotingRegressor\n",
    "from sklearn.ensemble import StackingRegressor\n",
    "from sklearn.metrics import mean_squared_error, root_mean_squared_error\n",
    "from lightgbm import LGBMRegressor\n",
    "from sklearn.model_selection import cross_val_score, train_test_split\n",
    "from sklearn.preprocessing import MinMaxScaler, StandardScaler\n",
    "import xgboost as xgb\n",
    "\n",
    "min_max_scaler = MinMaxScaler()\n",
    "standard_scaler = StandardScaler()\n",
    "\n",
    "lr = LinearRegression()\n",
    "dtr = DecisionTreeRegressor()\n",
    "rfr = RandomForestRegressor()\n",
    "abr = AdaBoostRegressor()\n",
    "gbr = GradientBoostingRegressor()\n",
    "lgbr = LGBMRegressor(verbosity=-1)\n",
    "xgbr = xgb.XGBRegressor()\n",
    "\n",
    "isolated_models = [lr, dtr, rfr, abr, gbr, lgbr]\n",
    "\n",
    "params = {\n",
    "    'objective': 'reg:squarederror',  # Regression objective\n",
    "    'eval_metric': 'rmse',           # Root Mean Square Error\n",
    "    'max_depth': 6,\n",
    "    'eta': 0.3\n",
    "}\n",
    "\n",
    "def get_cross_val_score(x, y, cv):\n",
    "    x_min_max = min_max_scaler.fit_transform(x)\n",
    "    x_standard = standard_scaler.fit_transform(x)\n",
    "\n",
    "    dfs = ((x, \"Not Scaled\"), (x_standard, \"Standard Scaled\"), (x_min_max, \"Min Max Scaled\"))\n",
    "    results = []\n",
    "\n",
    "    def _cross_validation(x_data, y_data, label):\n",
    "        dtrain = xgb.DMatrix(data=x_data, label=y_data)\n",
    "        cv_results = xgb.cv(\n",
    "            params=params,\n",
    "            dtrain=dtrain,\n",
    "            nfold=5,            # Number of folds\n",
    "            seed=42,\n",
    "            metrics=\"rmse\",     # Metric for evaluation\n",
    "            as_pandas=True      # Return results as a pandas DataFrame\n",
    "        )\n",
    "\n",
    "        mean_rmse = np.mean(cv_results['test-rmse-mean'])\n",
    "        results.append({mean_rmse: f'Model: XGBoost ({label}) \\nMean RMSE: {mean_rmse}\\n'})\n",
    "\n",
    "        for model in isolated_models:\n",
    "            scores = cross_val_score(model, x, y, cv=cv, scoring='neg_root_mean_squared_error')\n",
    "            results.append({-scores.mean(): f\"Model: ({label}) {model.__class__.__name__}\\nMean RMSE: {-scores.mean():.2f}\"})\n",
    "\n",
    "    for df in dfs:\n",
    "        _cross_validation(df[0], y, df[1])\n",
    "\n",
    "    orders_result = sorted(results, key=lambda d: list(d.keys())[0])\n",
    "\n",
    "    for result in orders_result:\n",
    "        for k in result:\n",
    "            print(result[k])\n",
    "            print()"
   ],
   "id": "ceb1016ec67c2a54",
   "outputs": [],
   "execution_count": 110
  },
  {
   "metadata": {},
   "cell_type": "markdown",
   "source": "##### Cross Validation Using Label Encoded Data",
   "id": "da1a0d7aea9b556f"
  },
  {
   "metadata": {
    "ExecuteTime": {
     "end_time": "2024-12-19T14:38:00.769139Z",
     "start_time": "2024-12-19T14:34:19.928567Z"
    }
   },
   "cell_type": "code",
   "source": [
    "x = df_le.drop(columns=[\"Time_taken(min)\"])\n",
    "y = df_le[\"Time_taken(min)\"]\n",
    "\n",
    "get_cross_val_score(x, y, 5)"
   ],
   "id": "45aaadf0b1c5eccf",
   "outputs": [
    {
     "name": "stdout",
     "output_type": "stream",
     "text": [
      "Model: (Not Scaled) LGBMRegressor\n",
      "Mean RMSE: 3.90\n",
      "\n",
      "Model: (Standard Scaled) LGBMRegressor\n",
      "Mean RMSE: 3.90\n",
      "\n",
      "Model: (Min Max Scaled) LGBMRegressor\n",
      "Mean RMSE: 3.90\n",
      "\n",
      "Model: (Not Scaled) RandomForestRegressor\n",
      "Mean RMSE: 4.06\n",
      "\n",
      "Model: (Standard Scaled) RandomForestRegressor\n",
      "Mean RMSE: 4.06\n",
      "\n",
      "Model: (Min Max Scaled) RandomForestRegressor\n",
      "Mean RMSE: 4.06\n",
      "\n",
      "Model: (Not Scaled) GradientBoostingRegressor\n",
      "Mean RMSE: 4.47\n",
      "\n",
      "Model: (Standard Scaled) GradientBoostingRegressor\n",
      "Mean RMSE: 4.47\n",
      "\n",
      "Model: (Min Max Scaled) GradientBoostingRegressor\n",
      "Mean RMSE: 4.47\n",
      "\n",
      "Model: XGBoost (Not Scaled) \n",
      "Mean RMSE: 5.208393432409793\n",
      "\n",
      "\n",
      "Model: XGBoost (Standard Scaled) \n",
      "Mean RMSE: 5.208408709914126\n",
      "\n",
      "\n",
      "Model: XGBoost (Min Max Scaled) \n",
      "Mean RMSE: 5.208428855524266\n",
      "\n",
      "\n",
      "Model: (Not Scaled) DecisionTreeRegressor\n",
      "Mean RMSE: 5.46\n",
      "\n",
      "Model: (Standard Scaled) DecisionTreeRegressor\n",
      "Mean RMSE: 5.46\n",
      "\n",
      "Model: (Min Max Scaled) DecisionTreeRegressor\n",
      "Mean RMSE: 5.46\n",
      "\n",
      "Model: (Not Scaled) AdaBoostRegressor\n",
      "Mean RMSE: 5.92\n",
      "\n",
      "Model: (Standard Scaled) AdaBoostRegressor\n",
      "Mean RMSE: 5.92\n",
      "\n",
      "Model: (Min Max Scaled) AdaBoostRegressor\n",
      "Mean RMSE: 5.92\n",
      "\n",
      "Model: (Not Scaled) LinearRegression\n",
      "Mean RMSE: 7.13\n",
      "\n",
      "Model: (Standard Scaled) LinearRegression\n",
      "Mean RMSE: 7.13\n",
      "\n",
      "Model: (Min Max Scaled) LinearRegression\n",
      "Mean RMSE: 7.13\n",
      "\n"
     ]
    }
   ],
   "execution_count": 111
  },
  {
   "metadata": {},
   "cell_type": "markdown",
   "source": "##### Cross Validation Using One Hot Encoded Data",
   "id": "1c76b548c3c1739e"
  },
  {
   "metadata": {
    "ExecuteTime": {
     "end_time": "2024-12-19T14:42:46.057230Z",
     "start_time": "2024-12-19T14:38:00.896418Z"
    }
   },
   "cell_type": "code",
   "source": [
    "x = df_ohe.drop(columns=[\"Time_taken(min)\"])\n",
    "y = df_ohe[\"Time_taken(min)\"]\n",
    "\n",
    "get_cross_val_score(x, y, 5)"
   ],
   "id": "9908af61a3c391fe",
   "outputs": [
    {
     "name": "stdout",
     "output_type": "stream",
     "text": [
      "Model: (Not Scaled) LGBMRegressor\n",
      "Mean RMSE: 3.92\n",
      "\n",
      "Model: (Standard Scaled) LGBMRegressor\n",
      "Mean RMSE: 3.92\n",
      "\n",
      "Model: (Min Max Scaled) LGBMRegressor\n",
      "Mean RMSE: 3.92\n",
      "\n",
      "Model: (Not Scaled) RandomForestRegressor\n",
      "Mean RMSE: 4.05\n",
      "\n",
      "Model: (Standard Scaled) RandomForestRegressor\n",
      "Mean RMSE: 4.05\n",
      "\n",
      "Model: (Min Max Scaled) RandomForestRegressor\n",
      "Mean RMSE: 4.05\n",
      "\n",
      "Model: (Not Scaled) GradientBoostingRegressor\n",
      "Mean RMSE: 4.55\n",
      "\n",
      "Model: (Standard Scaled) GradientBoostingRegressor\n",
      "Mean RMSE: 4.55\n",
      "\n",
      "Model: (Min Max Scaled) GradientBoostingRegressor\n",
      "Mean RMSE: 4.55\n",
      "\n",
      "Model: XGBoost (Not Scaled) \n",
      "Mean RMSE: 5.2523992560425485\n",
      "\n",
      "\n",
      "Model: XGBoost (Min Max Scaled) \n",
      "Mean RMSE: 5.2523992560425485\n",
      "\n",
      "\n",
      "Model: XGBoost (Standard Scaled) \n",
      "Mean RMSE: 5.2529042601947715\n",
      "\n",
      "\n",
      "Model: (Not Scaled) DecisionTreeRegressor\n",
      "Mean RMSE: 5.48\n",
      "\n",
      "Model: (Standard Scaled) DecisionTreeRegressor\n",
      "Mean RMSE: 5.48\n",
      "\n",
      "Model: (Min Max Scaled) DecisionTreeRegressor\n",
      "Mean RMSE: 5.48\n",
      "\n",
      "Model: (Not Scaled) AdaBoostRegressor\n",
      "Mean RMSE: 6.04\n",
      "\n",
      "Model: (Standard Scaled) AdaBoostRegressor\n",
      "Mean RMSE: 6.04\n",
      "\n",
      "Model: (Min Max Scaled) AdaBoostRegressor\n",
      "Mean RMSE: 6.04\n",
      "\n",
      "Model: (Not Scaled) LinearRegression\n",
      "Mean RMSE: 6.29\n",
      "\n",
      "Model: (Standard Scaled) LinearRegression\n",
      "Mean RMSE: 6.29\n",
      "\n",
      "Model: (Min Max Scaled) LinearRegression\n",
      "Mean RMSE: 6.29\n",
      "\n"
     ]
    }
   ],
   "execution_count": 112
  },
  {
   "metadata": {},
   "cell_type": "markdown",
   "source": "##### Split data",
   "id": "d0b55c5822149faf"
  },
  {
   "metadata": {
    "ExecuteTime": {
     "end_time": "2024-12-19T14:42:46.115128Z",
     "start_time": "2024-12-19T14:42:46.097323Z"
    }
   },
   "cell_type": "code",
   "source": [
    "x = df_le.drop(columns=[\"Time_taken(min)\"])\n",
    "y = df_le[\"Time_taken(min)\"]\n",
    "\n",
    "x_train, x_test, y_train, y_test = train_test_split(x, y, test_size=0.2, random_state=42)"
   ],
   "id": "f7d4e76faa1eaa44",
   "outputs": [],
   "execution_count": 113
  },
  {
   "metadata": {},
   "cell_type": "markdown",
   "source": "##### Testing Model Accuracy Without Cross Validation",
   "id": "ac895b7ecc7f8623"
  },
  {
   "metadata": {
    "ExecuteTime": {
     "end_time": "2024-12-19T14:43:00.356150Z",
     "start_time": "2024-12-19T14:42:46.163415Z"
    }
   },
   "cell_type": "code",
   "source": [
    "for model in isolated_models:\n",
    "    print(model)\n",
    "    model.fit(x_train, y_train)\n",
    "    score = model.score(x_test, y_test)\n",
    "    print(f\"Accuracy: {score}\")"
   ],
   "id": "4709c3cd1a569bee",
   "outputs": [
    {
     "name": "stdout",
     "output_type": "stream",
     "text": [
      "LinearRegression()\n",
      "Accuracy: 0.42532880966843334\n",
      "DecisionTreeRegressor()\n",
      "Accuracy: 0.6605272499455257\n",
      "RandomForestRegressor()\n",
      "Accuracy: 0.8144466837609201\n",
      "AdaBoostRegressor()\n",
      "Accuracy: 0.6135680372984453\n",
      "GradientBoostingRegressor()\n",
      "Accuracy: 0.776296384789621\n",
      "LGBMRegressor(verbosity=-1)\n",
      "Accuracy: 0.8246880069111429\n"
     ]
    }
   ],
   "execution_count": 114
  },
  {
   "metadata": {},
   "cell_type": "markdown",
   "source": "#### Hyper Parameter Tuning",
   "id": "5dee1eed56638d8d"
  },
  {
   "metadata": {
    "ExecuteTime": {
     "end_time": "2024-12-19T14:43:00.389009Z",
     "start_time": "2024-12-19T14:43:00.385367Z"
    }
   },
   "cell_type": "code",
   "source": "from sklearn.model_selection import GridSearchCV",
   "id": "66d5daeb44c9a96e",
   "outputs": [],
   "execution_count": 115
  },
  {
   "metadata": {},
   "cell_type": "markdown",
   "source": "##### For Random Forest",
   "id": "160e87e8d2b87408"
  },
  {
   "metadata": {
    "ExecuteTime": {
     "end_time": "2024-12-19T14:44:38.387862Z",
     "start_time": "2024-12-19T14:43:00.416931Z"
    }
   },
   "cell_type": "code",
   "source": [
    "params_grid = {\n",
    "    'n_estimators': [200, 150],\n",
    "    'max_depth': [None],\n",
    "    'min_samples_split': [2, 5],\n",
    "    'min_samples_leaf': [1, 2],\n",
    "    'max_features': ['sqrt']\n",
    "}\n",
    "\n",
    "grid_search = GridSearchCV(rfr, param_grid=params_grid, cv=5, n_jobs=-1, verbose=2)\n",
    "grid_search.fit(x_train, y_train)\n",
    "\n",
    "print(grid_search.best_params_)\n",
    "print(grid_search.best_score_)\n",
    "best_rfr = grid_search.best_estimator_"
   ],
   "id": "e544942613fe32be",
   "outputs": [
    {
     "name": "stdout",
     "output_type": "stream",
     "text": [
      "Fitting 5 folds for each of 8 candidates, totalling 40 fits\n",
      "{'max_depth': None, 'max_features': 'sqrt', 'min_samples_leaf': 1, 'min_samples_split': 5, 'n_estimators': 200}\n",
      "0.8136237697434442\n"
     ]
    }
   ],
   "execution_count": 116
  },
  {
   "metadata": {},
   "cell_type": "markdown",
   "source": "##### For LightGBM",
   "id": "b635561f4b8869ff"
  },
  {
   "metadata": {
    "ExecuteTime": {
     "end_time": "2024-12-19T14:45:31.584453Z",
     "start_time": "2024-12-19T14:44:38.844970Z"
    }
   },
   "cell_type": "code",
   "source": [
    "params_grid = {\n",
    "    'n_estimators': [50, 100, 150],\n",
    "    'max_depth': [None, 10, 15],\n",
    "    'min_child_samples': [20, 40, 60],\n",
    "    'learning_rate': [0.1, 0.01, 0.001]\n",
    "}\n",
    "\n",
    "grid_search = GridSearchCV(lgbr, param_grid=params_grid, cv=5, n_jobs=-1, verbose=2)\n",
    "grid_search.fit(x_train, y_train)\n",
    "\n",
    "print(grid_search.best_params_)\n",
    "print(grid_search.best_score_)\n",
    "best_lgbr = grid_search.best_estimator_"
   ],
   "id": "8661f3f08257fb7",
   "outputs": [
    {
     "name": "stdout",
     "output_type": "stream",
     "text": [
      "Fitting 5 folds for each of 81 candidates, totalling 405 fits\n",
      "{'learning_rate': 0.1, 'max_depth': 15, 'min_child_samples': 20, 'n_estimators': 150}\n",
      "0.827018366522412\n"
     ]
    }
   ],
   "execution_count": 117
  },
  {
   "metadata": {},
   "cell_type": "markdown",
   "source": "#### Ensemble Models",
   "id": "3d18e5dff3d0fdbb"
  },
  {
   "metadata": {},
   "cell_type": "markdown",
   "source": "##### Bagging",
   "id": "1070f9499c784329"
  },
  {
   "metadata": {
    "ExecuteTime": {
     "end_time": "2024-12-19T14:45:32.908753Z",
     "start_time": "2024-12-19T14:45:31.593980Z"
    }
   },
   "cell_type": "code",
   "source": [
    "bagging_dtr = BaggingRegressor(estimator=dtr, n_estimators=10, random_state=42)\n",
    "bagging_dtr.fit(x_train, y_train)\n",
    "\n",
    "# Predictions and Evaluation\n",
    "y_pred = bagging_dtr.predict(x_test)\n",
    "score = bagging_dtr.score(x_test, y_test)\n",
    "print(\"Bagging Regressor MSE:\", root_mean_squared_error(y_test, y_pred))\n",
    "print(\"Bagging Regressor Score:\", score)"
   ],
   "id": "27f7f262184a6bf4",
   "outputs": [
    {
     "name": "stdout",
     "output_type": "stream",
     "text": [
      "Bagging Regressor MSE: 4.180296499583792\n",
      "Bagging Regressor Score: 0.8006928582608358\n"
     ]
    }
   ],
   "execution_count": 118
  },
  {
   "metadata": {
    "ExecuteTime": {
     "end_time": "2024-12-19T14:46:42.466079Z",
     "start_time": "2024-12-19T14:45:32.938596Z"
    }
   },
   "cell_type": "code",
   "source": [
    "bagging_rfr = BaggingRegressor(estimator=rfr, n_estimators=10, random_state=42)\n",
    "bagging_rfr.fit(x_train, y_train)\n",
    "\n",
    "# Predictions and Evaluation\n",
    "y_pred = bagging_rfr.predict(x_test)\n",
    "score = bagging_rfr.score(x_test, y_test)\n",
    "print(\"Bagging Regressor MSE:\", root_mean_squared_error(y_test, y_pred))\n",
    "print(\"Bagging Regressor Score:\", score)"
   ],
   "id": "ba92a500f8593471",
   "outputs": [
    {
     "name": "stdout",
     "output_type": "stream",
     "text": [
      "Bagging Regressor MSE: 3.9549583528338843\n",
      "Bagging Regressor Score: 0.8216009582750081\n"
     ]
    }
   ],
   "execution_count": 119
  },
  {
   "metadata": {
    "ExecuteTime": {
     "end_time": "2024-12-19T14:46:43.797712Z",
     "start_time": "2024-12-19T14:46:42.520913Z"
    }
   },
   "cell_type": "code",
   "source": [
    "bagging_lgbr = BaggingRegressor(estimator=lgbr, n_estimators=10, random_state=42)\n",
    "bagging_lgbr.fit(x_train, y_train)\n",
    "\n",
    "# Predictions and Evaluation\n",
    "y_pred = bagging_lgbr.predict(x_test)\n",
    "score = bagging_lgbr.score(x_test, y_test)\n",
    "print(\"Bagging Regressor MSE:\", root_mean_squared_error(y_test, y_pred))\n",
    "print(\"Bagging Regressor Score:\", score)"
   ],
   "id": "56b62855a31e87f1",
   "outputs": [
    {
     "name": "stdout",
     "output_type": "stream",
     "text": [
      "Bagging Regressor MSE: 3.9288332553277128\n",
      "Bagging Regressor Score: 0.8239500595694236\n"
     ]
    }
   ],
   "execution_count": 120
  },
  {
   "metadata": {
    "ExecuteTime": {
     "end_time": "2024-12-19T16:42:19.018449Z",
     "start_time": "2024-12-19T16:42:17.328334Z"
    }
   },
   "cell_type": "code",
   "source": [
    "bagging_best_lgbr = BaggingRegressor(estimator=best_lgbr, n_estimators=10, random_state=42)\n",
    "bagging_best_lgbr.fit(x_train, y_train)\n",
    "\n",
    "# Predictions and Evaluation\n",
    "y_pred = bagging_best_lgbr.predict(x_test)\n",
    "score = bagging_best_lgbr.score(x_test, y_test)\n",
    "print(\"Bagging Regressor MSE:\", root_mean_squared_error(y_test, y_pred))\n",
    "print(\"Bagging Regressor Score:\", score)"
   ],
   "id": "1bf0dc24f94f3abf",
   "outputs": [
    {
     "name": "stdout",
     "output_type": "stream",
     "text": [
      "Bagging Regressor MSE: 3.920454771149129\n",
      "Bagging Regressor Score: 0.824700134080546\n"
     ]
    }
   ],
   "execution_count": 134
  },
  {
   "metadata": {
    "ExecuteTime": {
     "end_time": "2024-12-19T14:46:43.882257Z",
     "start_time": "2024-12-19T14:46:43.876766Z"
    }
   },
   "cell_type": "code",
   "source": "bagging_models = [bagging_dtr, bagging_rfr, bagging_lgbr]",
   "id": "9e03fadcab6acaef",
   "outputs": [],
   "execution_count": 121
  },
  {
   "metadata": {},
   "cell_type": "markdown",
   "source": "#### Voting",
   "id": "944901754d8ceb5b"
  },
  {
   "metadata": {
    "ExecuteTime": {
     "end_time": "2024-12-19T14:46:43.897118Z",
     "start_time": "2024-12-19T14:46:43.891793Z"
    }
   },
   "cell_type": "code",
   "source": [
    "def voting(estimators_list):\n",
    "    # Define a list of regressors\n",
    "    voting_regressor = VotingRegressor(estimators=estimators_list)\n",
    "\n",
    "    # Train the Voting Regressor\n",
    "    voting_regressor.fit(x_train, y_train)\n",
    "\n",
    "    # Predictions and Evaluation\n",
    "    y_pred = voting_regressor.predict(x_test)\n",
    "    score = voting_regressor.score(x_test, y_test)\n",
    "    print(\"Voting Regressor MSE:\", mean_squared_error(y_test, y_pred))\n",
    "    print(\"Voting Regressor Score:\", score)\n",
    "    return voting_regressor"
   ],
   "id": "822258302c05e9c7",
   "outputs": [],
   "execution_count": 122
  },
  {
   "metadata": {
    "ExecuteTime": {
     "end_time": "2024-12-19T14:46:55.116533Z",
     "start_time": "2024-12-19T14:46:43.932595Z"
    }
   },
   "cell_type": "code",
   "source": [
    "estimators = [\n",
    "    ('rfr', rfr),\n",
    "    ('lgbr', lgbr),\n",
    "]\n",
    "\n",
    "voting_regressor_1 = voting(estimators)"
   ],
   "id": "3ff5e401340ae2aa",
   "outputs": [
    {
     "name": "stdout",
     "output_type": "stream",
     "text": [
      "Voting Regressor MSE: 15.213018681947199\n",
      "Voting Regressor Score: 0.8264901690486046\n"
     ]
    }
   ],
   "execution_count": 123
  },
  {
   "metadata": {
    "ExecuteTime": {
     "end_time": "2024-12-19T16:43:49.429929Z",
     "start_time": "2024-12-19T16:43:42.466001Z"
    }
   },
   "cell_type": "code",
   "source": [
    "estimators = [\n",
    "    ('rfr', best_rfr),\n",
    "    ('lgbr', best_lgbr),\n",
    "]\n",
    "\n",
    "voting_regressor_best = voting(estimators)"
   ],
   "id": "928175c124ac794",
   "outputs": [
    {
     "name": "stdout",
     "output_type": "stream",
     "text": [
      "Voting Regressor MSE: 15.500418558333328\n",
      "Voting Regressor Score: 0.823212272333314\n"
     ]
    }
   ],
   "execution_count": 136
  },
  {
   "metadata": {
    "ExecuteTime": {
     "end_time": "2024-12-19T14:48:05.052539Z",
     "start_time": "2024-12-19T14:46:55.148483Z"
    }
   },
   "cell_type": "code",
   "source": [
    "# Define a list of regressors\n",
    "estimators=[\n",
    "    ('bg_rfr', bagging_rfr),\n",
    "    ('bg_lgbr', bagging_lgbr),\n",
    "]\n",
    "\n",
    "voting_regressor_2 = voting(estimators)"
   ],
   "id": "43b2b87fcedf072a",
   "outputs": [
    {
     "name": "stdout",
     "output_type": "stream",
     "text": [
      "Voting Regressor MSE: 15.09729731801232\n",
      "Voting Regressor Score: 0.8278100119222371\n"
     ]
    }
   ],
   "execution_count": 124
  },
  {
   "metadata": {},
   "cell_type": "markdown",
   "source": "#### Stacking",
   "id": "f864661b6f080aba"
  },
  {
   "metadata": {
    "ExecuteTime": {
     "end_time": "2024-12-19T14:48:05.145742Z",
     "start_time": "2024-12-19T14:48:05.139570Z"
    }
   },
   "cell_type": "code",
   "source": [
    "def staking(base_models_list, meta_model):\n",
    "\n",
    "    # Create Stacking Regressor\n",
    "    stacking_regressor = StackingRegressor(estimators=base_models_list, final_estimator=meta_model, passthrough=False)\n",
    "\n",
    "    # Train the Stacking Regressor\n",
    "    stacking_regressor.fit(x_train, y_train)\n",
    "\n",
    "    # Predictions and Evaluation\n",
    "    y_pred = stacking_regressor.predict(x_test)\n",
    "    score = stacking_regressor.score(x_test, y_test)\n",
    "    print(\"Stacking Regressor MSE:\", mean_squared_error(y_test, y_pred))\n",
    "    print(\"Stacking Regressor Score:\", score)\n",
    "    return stacking_regressor"
   ],
   "id": "bc12201ba8e08634",
   "outputs": [],
   "execution_count": 125
  },
  {
   "metadata": {
    "ExecuteTime": {
     "end_time": "2024-12-19T14:49:17.003800Z",
     "start_time": "2024-12-19T14:48:05.190150Z"
    }
   },
   "cell_type": "code",
   "source": [
    "# Define base models\n",
    "base_models = [\n",
    "    ('lr', lr),\n",
    "    ('dtr', dtr),\n",
    "    ('rfr', rfr),\n",
    "    ('abr', abr),\n",
    "    ('gbr', gbr),\n",
    "    ('lgbr', lgbr),\n",
    "]\n",
    "\n",
    "stacking_regressor_0 = staking(base_models, LinearRegression())"
   ],
   "id": "f1b4003f0a97399f",
   "outputs": [
    {
     "name": "stdout",
     "output_type": "stream",
     "text": [
      "Stacking Regressor MSE: 15.073712816396494\n",
      "Stacking Regressor Score: 0.8280790014616564\n"
     ]
    }
   ],
   "execution_count": 126
  },
  {
   "metadata": {
    "ExecuteTime": {
     "end_time": "2024-12-19T14:50:23.174604Z",
     "start_time": "2024-12-19T14:49:17.067502Z"
    }
   },
   "cell_type": "code",
   "source": [
    "# Define base models\n",
    "base_models = [\n",
    "    ('dtr', dtr),\n",
    "    ('rfr', rfr),\n",
    "    ('lgbr', lgbr),\n",
    "]\n",
    "\n",
    "stacking_regressor_1 = staking(base_models, RandomForestRegressor())"
   ],
   "id": "a56801a8fcdec939",
   "outputs": [
    {
     "name": "stdout",
     "output_type": "stream",
     "text": [
      "Stacking Regressor MSE: 16.66396671555117\n",
      "Stacking Regressor Score: 0.8099415961918164\n"
     ]
    }
   ],
   "execution_count": 127
  },
  {
   "metadata": {
    "ExecuteTime": {
     "end_time": "2024-12-19T14:51:17.539751Z",
     "start_time": "2024-12-19T14:50:23.218682Z"
    }
   },
   "cell_type": "code",
   "source": [
    "# Define base models\n",
    "base_models = [\n",
    "    ('dtr', dtr),\n",
    "    ('rfr', rfr),\n",
    "    ('lgbr', lgbr),\n",
    "]\n",
    "\n",
    "stacking_regressor_2 = staking(base_models, LGBMRegressor())"
   ],
   "id": "44e6a527bc378e7a",
   "outputs": [
    {
     "name": "stdout",
     "output_type": "stream",
     "text": [
      "Stacking Regressor MSE: 15.134386188335824\n",
      "Stacking Regressor Score: 0.827387000306032\n"
     ]
    }
   ],
   "execution_count": 128
  },
  {
   "metadata": {
    "ExecuteTime": {
     "end_time": "2024-12-19T14:56:57.758616Z",
     "start_time": "2024-12-19T14:51:17.599807Z"
    }
   },
   "cell_type": "code",
   "source": [
    "# Define base models\n",
    "base_models = [\n",
    "    ('bg_rfr', bagging_rfr),\n",
    "    ('bg_lgbr', bagging_lgbr),\n",
    "]\n",
    "stacking_regressor_3 = staking(base_models, LGBMRegressor())"
   ],
   "id": "a3012cd17a34c938",
   "outputs": [
    {
     "name": "stdout",
     "output_type": "stream",
     "text": [
      "Stacking Regressor MSE: 15.166452052757343\n",
      "Stacking Regressor Score: 0.827021277839544\n"
     ]
    }
   ],
   "execution_count": 129
  },
  {
   "metadata": {
    "ExecuteTime": {
     "end_time": "2024-12-19T14:58:27.045115Z",
     "start_time": "2024-12-19T14:56:57.836079Z"
    }
   },
   "cell_type": "code",
   "source": [
    "# Define base models\n",
    "base_models = [\n",
    "    ('lr', lr),\n",
    "    ('dtr', dtr),\n",
    "    ('rfr', rfr),\n",
    "    ('abr', abr),\n",
    "    ('gbr', gbr),\n",
    "    ('lgbr', lgbr),\n",
    "]\n",
    "stacking_regressor_4 = staking(base_models, RandomForestRegressor())"
   ],
   "id": "4511264289d2b4e9",
   "outputs": [
    {
     "name": "stdout",
     "output_type": "stream",
     "text": [
      "Stacking Regressor MSE: 15.74591785283474\n",
      "Stacking Regressor Score: 0.8204122664976429\n"
     ]
    }
   ],
   "execution_count": 130
  },
  {
   "metadata": {
    "ExecuteTime": {
     "end_time": "2024-12-19T14:59:38.554135Z",
     "start_time": "2024-12-19T14:58:27.108768Z"
    }
   },
   "cell_type": "code",
   "source": [
    "base_models = [\n",
    "    ('lr', lr),\n",
    "    ('dtr', dtr),\n",
    "    ('rfr', rfr),\n",
    "    ('abr', abr),\n",
    "    ('gbr', gbr),\n",
    "    ('lgbr', lgbr),\n",
    "]\n",
    "\n",
    "stacking_regressor_5 = staking(base_models, LGBMRegressor())"
   ],
   "id": "33e0a0f9ca995a43",
   "outputs": [
    {
     "name": "stdout",
     "output_type": "stream",
     "text": [
      "Stacking Regressor MSE: 15.024387458164421\n",
      "Stacking Regressor Score: 0.8286415745280145\n"
     ]
    }
   ],
   "execution_count": 131
  },
  {
   "metadata": {
    "ExecuteTime": {
     "end_time": "2024-12-19T15:05:36.992995Z",
     "start_time": "2024-12-19T14:59:38.632531Z"
    }
   },
   "cell_type": "code",
   "source": [
    "base_models = [\n",
    "    ('lr', lr),\n",
    "    ('dtr', dtr),\n",
    "    ('bg_rfr', bagging_rfr),\n",
    "    ('bg_lgbr', bagging_lgbr),\n",
    "    ('abr', abr),\n",
    "    ('gbr', gbr),\n",
    "]\n",
    "\n",
    "stacking_regressor_6 = staking(base_models, LGBMRegressor())"
   ],
   "id": "cddd7636f02c247b",
   "outputs": [
    {
     "name": "stdout",
     "output_type": "stream",
     "text": [
      "Stacking Regressor MSE: 15.059467276277717\n",
      "Stacking Regressor Score: 0.8282414768591759\n"
     ]
    }
   ],
   "execution_count": 132
  },
  {
   "metadata": {
    "ExecuteTime": {
     "end_time": "2024-12-19T15:06:34.395634Z",
     "start_time": "2024-12-19T15:05:37.078842Z"
    }
   },
   "cell_type": "code",
   "source": [
    "base_models = [\n",
    "    ('lr', lr),\n",
    "    ('dtr', dtr),\n",
    "    ('rfr', rfr),\n",
    "    ('lgbr', lgbr),\n",
    "]\n",
    "\n",
    "stacking_regressor_7 = staking(base_models, GradientBoostingRegressor())"
   ],
   "id": "b03219bac6cfedf4",
   "outputs": [
    {
     "name": "stdout",
     "output_type": "stream",
     "text": [
      "Stacking Regressor MSE: 15.06381621132831\n",
      "Stacking Regressor Score: 0.8281918757246987\n"
     ]
    }
   ],
   "execution_count": 133
  },
  {
   "metadata": {
    "ExecuteTime": {
     "end_time": "2024-12-19T16:46:27.192051Z",
     "start_time": "2024-12-19T16:45:36.882637Z"
    }
   },
   "cell_type": "code",
   "source": [
    "base_models = [\n",
    "    ('lr', lr),\n",
    "    ('dtr', dtr),\n",
    "    ('rfr', best_rfr),\n",
    "    ('abr', abr),\n",
    "    ('gbr', gbr),\n",
    "    ('lgbr', best_lgbr),\n",
    "]\n",
    "\n",
    "stacking_regressor_a = staking(base_models, best_lgbr)"
   ],
   "id": "ea607b765f4e8049",
   "outputs": [
    {
     "name": "stdout",
     "output_type": "stream",
     "text": [
      "Stacking Regressor MSE: 15.091532659272836\n",
      "Stacking Regressor Score: 0.8278757598835255\n"
     ]
    }
   ],
   "execution_count": 138
  },
  {
   "metadata": {},
   "cell_type": "markdown",
   "source": "#### Save model",
   "id": "c01d9c52665f9aa7"
  },
  {
   "metadata": {
    "ExecuteTime": {
     "end_time": "2024-12-19T16:50:05.459273Z",
     "start_time": "2024-12-19T16:50:03.050516Z"
    }
   },
   "cell_type": "code",
   "source": [
    "import pickle as pkl\n",
    "\n",
    "with open('saved_model.pkl', 'wb') as file:\n",
    "    pkl.dump(stacking_regressor_5, file)"
   ],
   "id": "fdc2ce4108a2b0c1",
   "outputs": [],
   "execution_count": 139
  },
  {
   "metadata": {},
   "cell_type": "code",
   "outputs": [],
   "execution_count": null,
   "source": "",
   "id": "8d00e603af0a456e"
  }
 ],
 "metadata": {
  "kernelspec": {
   "display_name": "Python 3",
   "language": "python",
   "name": "python3"
  },
  "language_info": {
   "codemirror_mode": {
    "name": "ipython",
    "version": 2
   },
   "file_extension": ".py",
   "mimetype": "text/x-python",
   "name": "python",
   "nbconvert_exporter": "python",
   "pygments_lexer": "ipython2",
   "version": "2.7.6"
  }
 },
 "nbformat": 4,
 "nbformat_minor": 5
}
